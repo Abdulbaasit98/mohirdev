{
  "cells": [
    {
      "cell_type": "markdown",
      "metadata": {
        "id": "view-in-github",
        "colab_type": "text"
      },
      "source": [
        "<a href=\"https://colab.research.google.com/github/Abdulbaasit98/mohirdev/blob/main/03_DATAWRANGLE_04_SQLite_2.ipynb\" target=\"_parent\"><img src=\"https://colab.research.google.com/assets/colab-badge.svg\" alt=\"Open In Colab\"/></a>"
      ]
    },
    {
      "cell_type": "code",
      "execution_count": null,
      "id": "701506b9-c73a-4c52-b3c6-db2308bb7c68",
      "metadata": {
        "id": "701506b9-c73a-4c52-b3c6-db2308bb7c68"
      },
      "outputs": [],
      "source": [
        "import pandas as pd\n",
        "import sqlite3 as sql"
      ]
    },
    {
      "cell_type": "markdown",
      "id": "38bf015e-6767-41c8-a4cf-bf9166692ce2",
      "metadata": {
        "id": "38bf015e-6767-41c8-a4cf-bf9166692ce2"
      },
      "source": [
        "Yangi ma'lumotlar omborini yaratamiz"
      ]
    },
    {
      "cell_type": "code",
      "execution_count": null,
      "id": "06d714ee-de09-4501-ad43-04c116959159",
      "metadata": {
        "id": "06d714ee-de09-4501-ad43-04c116959159"
      },
      "outputs": [],
      "source": [
        "db =sql.connect(\"newdb.db\")\n",
        "cursor = db.cursor()"
      ]
    },
    {
      "cell_type": "markdown",
      "id": "8776d5a1-4503-424c-9f9e-5d26c6901649",
      "metadata": {
        "id": "8776d5a1-4503-424c-9f9e-5d26c6901649"
      },
      "source": [
        "Ishlash uchun onlayndan jadval yuklab olamiz"
      ]
    },
    {
      "cell_type": "code",
      "execution_count": null,
      "id": "7c619d01-784b-48da-86cb-e0cd12eb1202",
      "metadata": {
        "colab": {
          "base_uri": "https://localhost:8080/",
          "height": 224
        },
        "id": "7c619d01-784b-48da-86cb-e0cd12eb1202",
        "outputId": "ba4f8cce-c6be-4452-feb4-2cd86123bb5b"
      },
      "outputs": [
        {
          "output_type": "execute_result",
          "data": {
            "text/plain": [
              "        Entity Code  Year  Electricity from coal (TWh)  \\\n",
              "0  Afghanistan  AFG  2000                          0.0   \n",
              "1  Afghanistan  AFG  2001                          0.0   \n",
              "2  Afghanistan  AFG  2002                          0.0   \n",
              "3  Afghanistan  AFG  2003                          0.0   \n",
              "4  Afghanistan  AFG  2004                          0.0   \n",
              "\n",
              "   Electricity from gas (TWh)  Electricity from hydro (TWh)  \\\n",
              "0                       0.155                         0.312   \n",
              "1                       0.094                         0.498   \n",
              "2                       0.132                         0.555   \n",
              "3                       0.309                         0.630   \n",
              "4                       0.329                         0.565   \n",
              "\n",
              "   Electricity from other renewables (TWh)  Electricity from solar (TWh)  \\\n",
              "0                                      0.0                           0.0   \n",
              "1                                      0.0                           0.0   \n",
              "2                                      0.0                           0.0   \n",
              "3                                      0.0                           0.0   \n",
              "4                                      0.0                           0.0   \n",
              "\n",
              "   Electricity from oil (TWh)  Electricity from wind (TWh)  \\\n",
              "0                         0.0                          0.0   \n",
              "1                         0.0                          0.0   \n",
              "2                         0.0                          0.0   \n",
              "3                         0.0                          0.0   \n",
              "4                         0.0                          0.0   \n",
              "\n",
              "   Electricity from nuclear (TWh)  \n",
              "0                             0.0  \n",
              "1                             0.0  \n",
              "2                             0.0  \n",
              "3                             0.0  \n",
              "4                             0.0  "
            ],
            "text/html": [
              "\n",
              "  <div id=\"df-f22ba283-9bf3-45d4-81b2-7b6a1713ac31\" class=\"colab-df-container\">\n",
              "    <div>\n",
              "<style scoped>\n",
              "    .dataframe tbody tr th:only-of-type {\n",
              "        vertical-align: middle;\n",
              "    }\n",
              "\n",
              "    .dataframe tbody tr th {\n",
              "        vertical-align: top;\n",
              "    }\n",
              "\n",
              "    .dataframe thead th {\n",
              "        text-align: right;\n",
              "    }\n",
              "</style>\n",
              "<table border=\"1\" class=\"dataframe\">\n",
              "  <thead>\n",
              "    <tr style=\"text-align: right;\">\n",
              "      <th></th>\n",
              "      <th>Entity</th>\n",
              "      <th>Code</th>\n",
              "      <th>Year</th>\n",
              "      <th>Electricity from coal (TWh)</th>\n",
              "      <th>Electricity from gas (TWh)</th>\n",
              "      <th>Electricity from hydro (TWh)</th>\n",
              "      <th>Electricity from other renewables (TWh)</th>\n",
              "      <th>Electricity from solar (TWh)</th>\n",
              "      <th>Electricity from oil (TWh)</th>\n",
              "      <th>Electricity from wind (TWh)</th>\n",
              "      <th>Electricity from nuclear (TWh)</th>\n",
              "    </tr>\n",
              "  </thead>\n",
              "  <tbody>\n",
              "    <tr>\n",
              "      <th>0</th>\n",
              "      <td>Afghanistan</td>\n",
              "      <td>AFG</td>\n",
              "      <td>2000</td>\n",
              "      <td>0.0</td>\n",
              "      <td>0.155</td>\n",
              "      <td>0.312</td>\n",
              "      <td>0.0</td>\n",
              "      <td>0.0</td>\n",
              "      <td>0.0</td>\n",
              "      <td>0.0</td>\n",
              "      <td>0.0</td>\n",
              "    </tr>\n",
              "    <tr>\n",
              "      <th>1</th>\n",
              "      <td>Afghanistan</td>\n",
              "      <td>AFG</td>\n",
              "      <td>2001</td>\n",
              "      <td>0.0</td>\n",
              "      <td>0.094</td>\n",
              "      <td>0.498</td>\n",
              "      <td>0.0</td>\n",
              "      <td>0.0</td>\n",
              "      <td>0.0</td>\n",
              "      <td>0.0</td>\n",
              "      <td>0.0</td>\n",
              "    </tr>\n",
              "    <tr>\n",
              "      <th>2</th>\n",
              "      <td>Afghanistan</td>\n",
              "      <td>AFG</td>\n",
              "      <td>2002</td>\n",
              "      <td>0.0</td>\n",
              "      <td>0.132</td>\n",
              "      <td>0.555</td>\n",
              "      <td>0.0</td>\n",
              "      <td>0.0</td>\n",
              "      <td>0.0</td>\n",
              "      <td>0.0</td>\n",
              "      <td>0.0</td>\n",
              "    </tr>\n",
              "    <tr>\n",
              "      <th>3</th>\n",
              "      <td>Afghanistan</td>\n",
              "      <td>AFG</td>\n",
              "      <td>2003</td>\n",
              "      <td>0.0</td>\n",
              "      <td>0.309</td>\n",
              "      <td>0.630</td>\n",
              "      <td>0.0</td>\n",
              "      <td>0.0</td>\n",
              "      <td>0.0</td>\n",
              "      <td>0.0</td>\n",
              "      <td>0.0</td>\n",
              "    </tr>\n",
              "    <tr>\n",
              "      <th>4</th>\n",
              "      <td>Afghanistan</td>\n",
              "      <td>AFG</td>\n",
              "      <td>2004</td>\n",
              "      <td>0.0</td>\n",
              "      <td>0.329</td>\n",
              "      <td>0.565</td>\n",
              "      <td>0.0</td>\n",
              "      <td>0.0</td>\n",
              "      <td>0.0</td>\n",
              "      <td>0.0</td>\n",
              "      <td>0.0</td>\n",
              "    </tr>\n",
              "  </tbody>\n",
              "</table>\n",
              "</div>\n",
              "    <div class=\"colab-df-buttons\">\n",
              "\n",
              "  <div class=\"colab-df-container\">\n",
              "    <button class=\"colab-df-convert\" onclick=\"convertToInteractive('df-f22ba283-9bf3-45d4-81b2-7b6a1713ac31')\"\n",
              "            title=\"Convert this dataframe to an interactive table.\"\n",
              "            style=\"display:none;\">\n",
              "\n",
              "  <svg xmlns=\"http://www.w3.org/2000/svg\" height=\"24px\" viewBox=\"0 -960 960 960\">\n",
              "    <path d=\"M120-120v-720h720v720H120Zm60-500h600v-160H180v160Zm220 220h160v-160H400v160Zm0 220h160v-160H400v160ZM180-400h160v-160H180v160Zm440 0h160v-160H620v160ZM180-180h160v-160H180v160Zm440 0h160v-160H620v160Z\"/>\n",
              "  </svg>\n",
              "    </button>\n",
              "\n",
              "  <style>\n",
              "    .colab-df-container {\n",
              "      display:flex;\n",
              "      gap: 12px;\n",
              "    }\n",
              "\n",
              "    .colab-df-convert {\n",
              "      background-color: #E8F0FE;\n",
              "      border: none;\n",
              "      border-radius: 50%;\n",
              "      cursor: pointer;\n",
              "      display: none;\n",
              "      fill: #1967D2;\n",
              "      height: 32px;\n",
              "      padding: 0 0 0 0;\n",
              "      width: 32px;\n",
              "    }\n",
              "\n",
              "    .colab-df-convert:hover {\n",
              "      background-color: #E2EBFA;\n",
              "      box-shadow: 0px 1px 2px rgba(60, 64, 67, 0.3), 0px 1px 3px 1px rgba(60, 64, 67, 0.15);\n",
              "      fill: #174EA6;\n",
              "    }\n",
              "\n",
              "    .colab-df-buttons div {\n",
              "      margin-bottom: 4px;\n",
              "    }\n",
              "\n",
              "    [theme=dark] .colab-df-convert {\n",
              "      background-color: #3B4455;\n",
              "      fill: #D2E3FC;\n",
              "    }\n",
              "\n",
              "    [theme=dark] .colab-df-convert:hover {\n",
              "      background-color: #434B5C;\n",
              "      box-shadow: 0px 1px 3px 1px rgba(0, 0, 0, 0.15);\n",
              "      filter: drop-shadow(0px 1px 2px rgba(0, 0, 0, 0.3));\n",
              "      fill: #FFFFFF;\n",
              "    }\n",
              "  </style>\n",
              "\n",
              "    <script>\n",
              "      const buttonEl =\n",
              "        document.querySelector('#df-f22ba283-9bf3-45d4-81b2-7b6a1713ac31 button.colab-df-convert');\n",
              "      buttonEl.style.display =\n",
              "        google.colab.kernel.accessAllowed ? 'block' : 'none';\n",
              "\n",
              "      async function convertToInteractive(key) {\n",
              "        const element = document.querySelector('#df-f22ba283-9bf3-45d4-81b2-7b6a1713ac31');\n",
              "        const dataTable =\n",
              "          await google.colab.kernel.invokeFunction('convertToInteractive',\n",
              "                                                    [key], {});\n",
              "        if (!dataTable) return;\n",
              "\n",
              "        const docLinkHtml = 'Like what you see? Visit the ' +\n",
              "          '<a target=\"_blank\" href=https://colab.research.google.com/notebooks/data_table.ipynb>data table notebook</a>'\n",
              "          + ' to learn more about interactive tables.';\n",
              "        element.innerHTML = '';\n",
              "        dataTable['output_type'] = 'display_data';\n",
              "        await google.colab.output.renderOutput(dataTable, element);\n",
              "        const docLink = document.createElement('div');\n",
              "        docLink.innerHTML = docLinkHtml;\n",
              "        element.appendChild(docLink);\n",
              "      }\n",
              "    </script>\n",
              "  </div>\n",
              "\n",
              "\n",
              "<div id=\"df-77ac5163-5457-496d-9629-bf6eb57bbef3\">\n",
              "  <button class=\"colab-df-quickchart\" onclick=\"quickchart('df-77ac5163-5457-496d-9629-bf6eb57bbef3')\"\n",
              "            title=\"Suggest charts\"\n",
              "            style=\"display:none;\">\n",
              "\n",
              "<svg xmlns=\"http://www.w3.org/2000/svg\" height=\"24px\"viewBox=\"0 0 24 24\"\n",
              "     width=\"24px\">\n",
              "    <g>\n",
              "        <path d=\"M19 3H5c-1.1 0-2 .9-2 2v14c0 1.1.9 2 2 2h14c1.1 0 2-.9 2-2V5c0-1.1-.9-2-2-2zM9 17H7v-7h2v7zm4 0h-2V7h2v10zm4 0h-2v-4h2v4z\"/>\n",
              "    </g>\n",
              "</svg>\n",
              "  </button>\n",
              "\n",
              "<style>\n",
              "  .colab-df-quickchart {\n",
              "      --bg-color: #E8F0FE;\n",
              "      --fill-color: #1967D2;\n",
              "      --hover-bg-color: #E2EBFA;\n",
              "      --hover-fill-color: #174EA6;\n",
              "      --disabled-fill-color: #AAA;\n",
              "      --disabled-bg-color: #DDD;\n",
              "  }\n",
              "\n",
              "  [theme=dark] .colab-df-quickchart {\n",
              "      --bg-color: #3B4455;\n",
              "      --fill-color: #D2E3FC;\n",
              "      --hover-bg-color: #434B5C;\n",
              "      --hover-fill-color: #FFFFFF;\n",
              "      --disabled-bg-color: #3B4455;\n",
              "      --disabled-fill-color: #666;\n",
              "  }\n",
              "\n",
              "  .colab-df-quickchart {\n",
              "    background-color: var(--bg-color);\n",
              "    border: none;\n",
              "    border-radius: 50%;\n",
              "    cursor: pointer;\n",
              "    display: none;\n",
              "    fill: var(--fill-color);\n",
              "    height: 32px;\n",
              "    padding: 0;\n",
              "    width: 32px;\n",
              "  }\n",
              "\n",
              "  .colab-df-quickchart:hover {\n",
              "    background-color: var(--hover-bg-color);\n",
              "    box-shadow: 0 1px 2px rgba(60, 64, 67, 0.3), 0 1px 3px 1px rgba(60, 64, 67, 0.15);\n",
              "    fill: var(--button-hover-fill-color);\n",
              "  }\n",
              "\n",
              "  .colab-df-quickchart-complete:disabled,\n",
              "  .colab-df-quickchart-complete:disabled:hover {\n",
              "    background-color: var(--disabled-bg-color);\n",
              "    fill: var(--disabled-fill-color);\n",
              "    box-shadow: none;\n",
              "  }\n",
              "\n",
              "  .colab-df-spinner {\n",
              "    border: 2px solid var(--fill-color);\n",
              "    border-color: transparent;\n",
              "    border-bottom-color: var(--fill-color);\n",
              "    animation:\n",
              "      spin 1s steps(1) infinite;\n",
              "  }\n",
              "\n",
              "  @keyframes spin {\n",
              "    0% {\n",
              "      border-color: transparent;\n",
              "      border-bottom-color: var(--fill-color);\n",
              "      border-left-color: var(--fill-color);\n",
              "    }\n",
              "    20% {\n",
              "      border-color: transparent;\n",
              "      border-left-color: var(--fill-color);\n",
              "      border-top-color: var(--fill-color);\n",
              "    }\n",
              "    30% {\n",
              "      border-color: transparent;\n",
              "      border-left-color: var(--fill-color);\n",
              "      border-top-color: var(--fill-color);\n",
              "      border-right-color: var(--fill-color);\n",
              "    }\n",
              "    40% {\n",
              "      border-color: transparent;\n",
              "      border-right-color: var(--fill-color);\n",
              "      border-top-color: var(--fill-color);\n",
              "    }\n",
              "    60% {\n",
              "      border-color: transparent;\n",
              "      border-right-color: var(--fill-color);\n",
              "    }\n",
              "    80% {\n",
              "      border-color: transparent;\n",
              "      border-right-color: var(--fill-color);\n",
              "      border-bottom-color: var(--fill-color);\n",
              "    }\n",
              "    90% {\n",
              "      border-color: transparent;\n",
              "      border-bottom-color: var(--fill-color);\n",
              "    }\n",
              "  }\n",
              "</style>\n",
              "\n",
              "  <script>\n",
              "    async function quickchart(key) {\n",
              "      const quickchartButtonEl =\n",
              "        document.querySelector('#' + key + ' button');\n",
              "      quickchartButtonEl.disabled = true;  // To prevent multiple clicks.\n",
              "      quickchartButtonEl.classList.add('colab-df-spinner');\n",
              "      try {\n",
              "        const charts = await google.colab.kernel.invokeFunction(\n",
              "            'suggestCharts', [key], {});\n",
              "      } catch (error) {\n",
              "        console.error('Error during call to suggestCharts:', error);\n",
              "      }\n",
              "      quickchartButtonEl.classList.remove('colab-df-spinner');\n",
              "      quickchartButtonEl.classList.add('colab-df-quickchart-complete');\n",
              "    }\n",
              "    (() => {\n",
              "      let quickchartButtonEl =\n",
              "        document.querySelector('#df-77ac5163-5457-496d-9629-bf6eb57bbef3 button');\n",
              "      quickchartButtonEl.style.display =\n",
              "        google.colab.kernel.accessAllowed ? 'block' : 'none';\n",
              "    })();\n",
              "  </script>\n",
              "</div>\n",
              "\n",
              "    </div>\n",
              "  </div>\n"
            ],
            "application/vnd.google.colaboratory.intrinsic+json": {
              "type": "dataframe",
              "variable_name": "df",
              "summary": "{\n  \"name\": \"df\",\n  \"rows\": 6241,\n  \"fields\": [\n    {\n      \"column\": \"Entity\",\n      \"properties\": {\n        \"dtype\": \"category\",\n        \"num_unique_values\": 235,\n        \"samples\": [\n          \"Europe (other)\",\n          \"Tajikistan\",\n          \"Saint Lucia\"\n        ],\n        \"semantic_type\": \"\",\n        \"description\": \"\"\n      }\n    },\n    {\n      \"column\": \"Code\",\n      \"properties\": {\n        \"dtype\": \"category\",\n        \"num_unique_values\": 211,\n        \"samples\": [\n          \"BFA\",\n          \"SOM\",\n          \"NOR\"\n        ],\n        \"semantic_type\": \"\",\n        \"description\": \"\"\n      }\n    },\n    {\n      \"column\": \"Year\",\n      \"properties\": {\n        \"dtype\": \"number\",\n        \"std\": 9,\n        \"min\": 1985,\n        \"max\": 2020,\n        \"num_unique_values\": 36,\n        \"samples\": [\n          2020,\n          2013,\n          1991\n        ],\n        \"semantic_type\": \"\",\n        \"description\": \"\"\n      }\n    },\n    {\n      \"column\": \"Electricity from coal (TWh)\",\n      \"properties\": {\n        \"dtype\": \"number\",\n        \"std\": 712.4558427102113,\n        \"min\": 0.0,\n        \"max\": 9345.34099700259,\n        \"num_unique_values\": 2308,\n        \"samples\": [\n          139.66751000000002,\n          13.976,\n          69.4984232804067\n        ],\n        \"semantic_type\": \"\",\n        \"description\": \"\"\n      }\n    },\n    {\n      \"column\": \"Electricity from gas (TWh)\",\n      \"properties\": {\n        \"dtype\": \"number\",\n        \"std\": 342.98419017255924,\n        \"min\": 0.0,\n        \"max\": 5943.11232938508,\n        \"num_unique_values\": 3082,\n        \"samples\": [\n          17.1742,\n          2586.884947,\n          460.258957\n        ],\n        \"semantic_type\": \"\",\n        \"description\": \"\"\n      }\n    },\n    {\n      \"column\": \"Electricity from hydro (TWh)\",\n      \"properties\": {\n        \"dtype\": \"number\",\n        \"std\": 257.725337376926,\n        \"min\": 0.0,\n        \"max\": 4355.04163601371,\n        \"num_unique_values\": 4168,\n        \"samples\": [\n          0.164,\n          0.41382,\n          4.953\n        ],\n        \"semantic_type\": \"\",\n        \"description\": \"\"\n      }\n    },\n    {\n      \"column\": \"Electricity from other renewables (TWh)\",\n      \"properties\": {\n        \"dtype\": \"number\",\n        \"std\": 32.334128306875016,\n        \"min\": 0.0,\n        \"max\": 702.887551555432,\n        \"num_unique_values\": 2403,\n        \"samples\": [\n          10.219,\n          0.1197,\n          1.14\n        ],\n        \"semantic_type\": \"\",\n        \"description\": \"\"\n      }\n    },\n    {\n      \"column\": \"Electricity from solar (TWh)\",\n      \"properties\": {\n        \"dtype\": \"number\",\n        \"std\": 21.726405520400856,\n        \"min\": 0.0,\n        \"max\": 844.385950939173,\n        \"num_unique_values\": 1441,\n        \"samples\": [\n          0.177,\n          0.0045385,\n          0.006161\n        ],\n        \"semantic_type\": \"\",\n        \"description\": \"\"\n      }\n    },\n    {\n      \"column\": \"Electricity from oil (TWh)\",\n      \"properties\": {\n        \"dtype\": \"number\",\n        \"std\": 110.22277172452137,\n        \"min\": 0.0,\n        \"max\": 1364.578206,\n        \"num_unique_values\": 3807,\n        \"samples\": [\n          2.81196135642955,\n          7.91574,\n          1.06677893118031\n        ],\n        \"semantic_type\": \"\",\n        \"description\": \"\"\n      }\n    },\n    {\n      \"column\": \"Electricity from wind (TWh)\",\n      \"properties\": {\n        \"dtype\": \"number\",\n        \"std\": 51.570080927810814,\n        \"min\": 0.0,\n        \"max\": 1590.18943960678,\n        \"num_unique_values\": 1667,\n        \"samples\": [\n          0.0490569999999999,\n          0.00045,\n          0.244661\n        ],\n        \"semantic_type\": \"\",\n        \"description\": \"\"\n      }\n    },\n    {\n      \"column\": \"Electricity from nuclear (TWh)\",\n      \"properties\": {\n        \"dtype\": \"number\",\n        \"std\": 227.2231442184941,\n        \"min\": 0.0,\n        \"max\": 2720.67447051699,\n        \"num_unique_values\": 1381,\n        \"samples\": [\n          14.418,\n          0.111111111,\n          198.994884\n        ],\n        \"semantic_type\": \"\",\n        \"description\": \"\"\n      }\n    }\n  ]\n}"
            }
          },
          "metadata": {},
          "execution_count": 3
        }
      ],
      "source": [
        "df = pd.read_csv(\"https://raw.githubusercontent.com/anvarnarz/praktikum_datasets/main/Electricity_Production_By_Source.csv\")\n",
        "df.head()"
      ]
    },
    {
      "cell_type": "markdown",
      "id": "42a89db9-d918-4672-80dc-7ca1a8c66f6a",
      "metadata": {
        "id": "42a89db9-d918-4672-80dc-7ca1a8c66f6a"
      },
      "source": [
        "DFni omborga yuklashdan avval, kelin ustunlar nomini qisqartiraylik. Bunday qilishimizga sabab, keyinchalik SQL komandalar yozganda uzun nomlarni yozish o'ziga yarasha noqulayliklar keltirib chiqaradi."
      ]
    },
    {
      "cell_type": "code",
      "execution_count": null,
      "id": "d37ddec1-0b53-4dbe-acd4-95dea7869d5c",
      "metadata": {
        "colab": {
          "base_uri": "https://localhost:8080/",
          "height": 206
        },
        "id": "d37ddec1-0b53-4dbe-acd4-95dea7869d5c",
        "outputId": "bb56ef1d-7105-472a-e116-b33d0829ea1c"
      },
      "outputs": [
        {
          "output_type": "execute_result",
          "data": {
            "text/plain": [
              "       country code  year  coal    gas  hydro  renewable_other  solar  oil  \\\n",
              "0  Afghanistan  AFG  2000   0.0  0.155  0.312              0.0    0.0  0.0   \n",
              "1  Afghanistan  AFG  2001   0.0  0.094  0.498              0.0    0.0  0.0   \n",
              "2  Afghanistan  AFG  2002   0.0  0.132  0.555              0.0    0.0  0.0   \n",
              "3  Afghanistan  AFG  2003   0.0  0.309  0.630              0.0    0.0  0.0   \n",
              "4  Afghanistan  AFG  2004   0.0  0.329  0.565              0.0    0.0  0.0   \n",
              "\n",
              "   wind  nuclear  \n",
              "0   0.0      0.0  \n",
              "1   0.0      0.0  \n",
              "2   0.0      0.0  \n",
              "3   0.0      0.0  \n",
              "4   0.0      0.0  "
            ],
            "text/html": [
              "\n",
              "  <div id=\"df-375195ba-bd47-4906-bfd7-522f8105dc20\" class=\"colab-df-container\">\n",
              "    <div>\n",
              "<style scoped>\n",
              "    .dataframe tbody tr th:only-of-type {\n",
              "        vertical-align: middle;\n",
              "    }\n",
              "\n",
              "    .dataframe tbody tr th {\n",
              "        vertical-align: top;\n",
              "    }\n",
              "\n",
              "    .dataframe thead th {\n",
              "        text-align: right;\n",
              "    }\n",
              "</style>\n",
              "<table border=\"1\" class=\"dataframe\">\n",
              "  <thead>\n",
              "    <tr style=\"text-align: right;\">\n",
              "      <th></th>\n",
              "      <th>country</th>\n",
              "      <th>code</th>\n",
              "      <th>year</th>\n",
              "      <th>coal</th>\n",
              "      <th>gas</th>\n",
              "      <th>hydro</th>\n",
              "      <th>renewable_other</th>\n",
              "      <th>solar</th>\n",
              "      <th>oil</th>\n",
              "      <th>wind</th>\n",
              "      <th>nuclear</th>\n",
              "    </tr>\n",
              "  </thead>\n",
              "  <tbody>\n",
              "    <tr>\n",
              "      <th>0</th>\n",
              "      <td>Afghanistan</td>\n",
              "      <td>AFG</td>\n",
              "      <td>2000</td>\n",
              "      <td>0.0</td>\n",
              "      <td>0.155</td>\n",
              "      <td>0.312</td>\n",
              "      <td>0.0</td>\n",
              "      <td>0.0</td>\n",
              "      <td>0.0</td>\n",
              "      <td>0.0</td>\n",
              "      <td>0.0</td>\n",
              "    </tr>\n",
              "    <tr>\n",
              "      <th>1</th>\n",
              "      <td>Afghanistan</td>\n",
              "      <td>AFG</td>\n",
              "      <td>2001</td>\n",
              "      <td>0.0</td>\n",
              "      <td>0.094</td>\n",
              "      <td>0.498</td>\n",
              "      <td>0.0</td>\n",
              "      <td>0.0</td>\n",
              "      <td>0.0</td>\n",
              "      <td>0.0</td>\n",
              "      <td>0.0</td>\n",
              "    </tr>\n",
              "    <tr>\n",
              "      <th>2</th>\n",
              "      <td>Afghanistan</td>\n",
              "      <td>AFG</td>\n",
              "      <td>2002</td>\n",
              "      <td>0.0</td>\n",
              "      <td>0.132</td>\n",
              "      <td>0.555</td>\n",
              "      <td>0.0</td>\n",
              "      <td>0.0</td>\n",
              "      <td>0.0</td>\n",
              "      <td>0.0</td>\n",
              "      <td>0.0</td>\n",
              "    </tr>\n",
              "    <tr>\n",
              "      <th>3</th>\n",
              "      <td>Afghanistan</td>\n",
              "      <td>AFG</td>\n",
              "      <td>2003</td>\n",
              "      <td>0.0</td>\n",
              "      <td>0.309</td>\n",
              "      <td>0.630</td>\n",
              "      <td>0.0</td>\n",
              "      <td>0.0</td>\n",
              "      <td>0.0</td>\n",
              "      <td>0.0</td>\n",
              "      <td>0.0</td>\n",
              "    </tr>\n",
              "    <tr>\n",
              "      <th>4</th>\n",
              "      <td>Afghanistan</td>\n",
              "      <td>AFG</td>\n",
              "      <td>2004</td>\n",
              "      <td>0.0</td>\n",
              "      <td>0.329</td>\n",
              "      <td>0.565</td>\n",
              "      <td>0.0</td>\n",
              "      <td>0.0</td>\n",
              "      <td>0.0</td>\n",
              "      <td>0.0</td>\n",
              "      <td>0.0</td>\n",
              "    </tr>\n",
              "  </tbody>\n",
              "</table>\n",
              "</div>\n",
              "    <div class=\"colab-df-buttons\">\n",
              "\n",
              "  <div class=\"colab-df-container\">\n",
              "    <button class=\"colab-df-convert\" onclick=\"convertToInteractive('df-375195ba-bd47-4906-bfd7-522f8105dc20')\"\n",
              "            title=\"Convert this dataframe to an interactive table.\"\n",
              "            style=\"display:none;\">\n",
              "\n",
              "  <svg xmlns=\"http://www.w3.org/2000/svg\" height=\"24px\" viewBox=\"0 -960 960 960\">\n",
              "    <path d=\"M120-120v-720h720v720H120Zm60-500h600v-160H180v160Zm220 220h160v-160H400v160Zm0 220h160v-160H400v160ZM180-400h160v-160H180v160Zm440 0h160v-160H620v160ZM180-180h160v-160H180v160Zm440 0h160v-160H620v160Z\"/>\n",
              "  </svg>\n",
              "    </button>\n",
              "\n",
              "  <style>\n",
              "    .colab-df-container {\n",
              "      display:flex;\n",
              "      gap: 12px;\n",
              "    }\n",
              "\n",
              "    .colab-df-convert {\n",
              "      background-color: #E8F0FE;\n",
              "      border: none;\n",
              "      border-radius: 50%;\n",
              "      cursor: pointer;\n",
              "      display: none;\n",
              "      fill: #1967D2;\n",
              "      height: 32px;\n",
              "      padding: 0 0 0 0;\n",
              "      width: 32px;\n",
              "    }\n",
              "\n",
              "    .colab-df-convert:hover {\n",
              "      background-color: #E2EBFA;\n",
              "      box-shadow: 0px 1px 2px rgba(60, 64, 67, 0.3), 0px 1px 3px 1px rgba(60, 64, 67, 0.15);\n",
              "      fill: #174EA6;\n",
              "    }\n",
              "\n",
              "    .colab-df-buttons div {\n",
              "      margin-bottom: 4px;\n",
              "    }\n",
              "\n",
              "    [theme=dark] .colab-df-convert {\n",
              "      background-color: #3B4455;\n",
              "      fill: #D2E3FC;\n",
              "    }\n",
              "\n",
              "    [theme=dark] .colab-df-convert:hover {\n",
              "      background-color: #434B5C;\n",
              "      box-shadow: 0px 1px 3px 1px rgba(0, 0, 0, 0.15);\n",
              "      filter: drop-shadow(0px 1px 2px rgba(0, 0, 0, 0.3));\n",
              "      fill: #FFFFFF;\n",
              "    }\n",
              "  </style>\n",
              "\n",
              "    <script>\n",
              "      const buttonEl =\n",
              "        document.querySelector('#df-375195ba-bd47-4906-bfd7-522f8105dc20 button.colab-df-convert');\n",
              "      buttonEl.style.display =\n",
              "        google.colab.kernel.accessAllowed ? 'block' : 'none';\n",
              "\n",
              "      async function convertToInteractive(key) {\n",
              "        const element = document.querySelector('#df-375195ba-bd47-4906-bfd7-522f8105dc20');\n",
              "        const dataTable =\n",
              "          await google.colab.kernel.invokeFunction('convertToInteractive',\n",
              "                                                    [key], {});\n",
              "        if (!dataTable) return;\n",
              "\n",
              "        const docLinkHtml = 'Like what you see? Visit the ' +\n",
              "          '<a target=\"_blank\" href=https://colab.research.google.com/notebooks/data_table.ipynb>data table notebook</a>'\n",
              "          + ' to learn more about interactive tables.';\n",
              "        element.innerHTML = '';\n",
              "        dataTable['output_type'] = 'display_data';\n",
              "        await google.colab.output.renderOutput(dataTable, element);\n",
              "        const docLink = document.createElement('div');\n",
              "        docLink.innerHTML = docLinkHtml;\n",
              "        element.appendChild(docLink);\n",
              "      }\n",
              "    </script>\n",
              "  </div>\n",
              "\n",
              "\n",
              "<div id=\"df-8608864f-a6da-44c7-ad2b-83b7ce41b805\">\n",
              "  <button class=\"colab-df-quickchart\" onclick=\"quickchart('df-8608864f-a6da-44c7-ad2b-83b7ce41b805')\"\n",
              "            title=\"Suggest charts\"\n",
              "            style=\"display:none;\">\n",
              "\n",
              "<svg xmlns=\"http://www.w3.org/2000/svg\" height=\"24px\"viewBox=\"0 0 24 24\"\n",
              "     width=\"24px\">\n",
              "    <g>\n",
              "        <path d=\"M19 3H5c-1.1 0-2 .9-2 2v14c0 1.1.9 2 2 2h14c1.1 0 2-.9 2-2V5c0-1.1-.9-2-2-2zM9 17H7v-7h2v7zm4 0h-2V7h2v10zm4 0h-2v-4h2v4z\"/>\n",
              "    </g>\n",
              "</svg>\n",
              "  </button>\n",
              "\n",
              "<style>\n",
              "  .colab-df-quickchart {\n",
              "      --bg-color: #E8F0FE;\n",
              "      --fill-color: #1967D2;\n",
              "      --hover-bg-color: #E2EBFA;\n",
              "      --hover-fill-color: #174EA6;\n",
              "      --disabled-fill-color: #AAA;\n",
              "      --disabled-bg-color: #DDD;\n",
              "  }\n",
              "\n",
              "  [theme=dark] .colab-df-quickchart {\n",
              "      --bg-color: #3B4455;\n",
              "      --fill-color: #D2E3FC;\n",
              "      --hover-bg-color: #434B5C;\n",
              "      --hover-fill-color: #FFFFFF;\n",
              "      --disabled-bg-color: #3B4455;\n",
              "      --disabled-fill-color: #666;\n",
              "  }\n",
              "\n",
              "  .colab-df-quickchart {\n",
              "    background-color: var(--bg-color);\n",
              "    border: none;\n",
              "    border-radius: 50%;\n",
              "    cursor: pointer;\n",
              "    display: none;\n",
              "    fill: var(--fill-color);\n",
              "    height: 32px;\n",
              "    padding: 0;\n",
              "    width: 32px;\n",
              "  }\n",
              "\n",
              "  .colab-df-quickchart:hover {\n",
              "    background-color: var(--hover-bg-color);\n",
              "    box-shadow: 0 1px 2px rgba(60, 64, 67, 0.3), 0 1px 3px 1px rgba(60, 64, 67, 0.15);\n",
              "    fill: var(--button-hover-fill-color);\n",
              "  }\n",
              "\n",
              "  .colab-df-quickchart-complete:disabled,\n",
              "  .colab-df-quickchart-complete:disabled:hover {\n",
              "    background-color: var(--disabled-bg-color);\n",
              "    fill: var(--disabled-fill-color);\n",
              "    box-shadow: none;\n",
              "  }\n",
              "\n",
              "  .colab-df-spinner {\n",
              "    border: 2px solid var(--fill-color);\n",
              "    border-color: transparent;\n",
              "    border-bottom-color: var(--fill-color);\n",
              "    animation:\n",
              "      spin 1s steps(1) infinite;\n",
              "  }\n",
              "\n",
              "  @keyframes spin {\n",
              "    0% {\n",
              "      border-color: transparent;\n",
              "      border-bottom-color: var(--fill-color);\n",
              "      border-left-color: var(--fill-color);\n",
              "    }\n",
              "    20% {\n",
              "      border-color: transparent;\n",
              "      border-left-color: var(--fill-color);\n",
              "      border-top-color: var(--fill-color);\n",
              "    }\n",
              "    30% {\n",
              "      border-color: transparent;\n",
              "      border-left-color: var(--fill-color);\n",
              "      border-top-color: var(--fill-color);\n",
              "      border-right-color: var(--fill-color);\n",
              "    }\n",
              "    40% {\n",
              "      border-color: transparent;\n",
              "      border-right-color: var(--fill-color);\n",
              "      border-top-color: var(--fill-color);\n",
              "    }\n",
              "    60% {\n",
              "      border-color: transparent;\n",
              "      border-right-color: var(--fill-color);\n",
              "    }\n",
              "    80% {\n",
              "      border-color: transparent;\n",
              "      border-right-color: var(--fill-color);\n",
              "      border-bottom-color: var(--fill-color);\n",
              "    }\n",
              "    90% {\n",
              "      border-color: transparent;\n",
              "      border-bottom-color: var(--fill-color);\n",
              "    }\n",
              "  }\n",
              "</style>\n",
              "\n",
              "  <script>\n",
              "    async function quickchart(key) {\n",
              "      const quickchartButtonEl =\n",
              "        document.querySelector('#' + key + ' button');\n",
              "      quickchartButtonEl.disabled = true;  // To prevent multiple clicks.\n",
              "      quickchartButtonEl.classList.add('colab-df-spinner');\n",
              "      try {\n",
              "        const charts = await google.colab.kernel.invokeFunction(\n",
              "            'suggestCharts', [key], {});\n",
              "      } catch (error) {\n",
              "        console.error('Error during call to suggestCharts:', error);\n",
              "      }\n",
              "      quickchartButtonEl.classList.remove('colab-df-spinner');\n",
              "      quickchartButtonEl.classList.add('colab-df-quickchart-complete');\n",
              "    }\n",
              "    (() => {\n",
              "      let quickchartButtonEl =\n",
              "        document.querySelector('#df-8608864f-a6da-44c7-ad2b-83b7ce41b805 button');\n",
              "      quickchartButtonEl.style.display =\n",
              "        google.colab.kernel.accessAllowed ? 'block' : 'none';\n",
              "    })();\n",
              "  </script>\n",
              "</div>\n",
              "\n",
              "    </div>\n",
              "  </div>\n"
            ],
            "application/vnd.google.colaboratory.intrinsic+json": {
              "type": "dataframe",
              "variable_name": "df",
              "summary": "{\n  \"name\": \"df\",\n  \"rows\": 6241,\n  \"fields\": [\n    {\n      \"column\": \"country\",\n      \"properties\": {\n        \"dtype\": \"category\",\n        \"num_unique_values\": 235,\n        \"samples\": [\n          \"Europe (other)\",\n          \"Tajikistan\",\n          \"Saint Lucia\"\n        ],\n        \"semantic_type\": \"\",\n        \"description\": \"\"\n      }\n    },\n    {\n      \"column\": \"code\",\n      \"properties\": {\n        \"dtype\": \"category\",\n        \"num_unique_values\": 211,\n        \"samples\": [\n          \"BFA\",\n          \"SOM\",\n          \"NOR\"\n        ],\n        \"semantic_type\": \"\",\n        \"description\": \"\"\n      }\n    },\n    {\n      \"column\": \"year\",\n      \"properties\": {\n        \"dtype\": \"number\",\n        \"std\": 9,\n        \"min\": 1985,\n        \"max\": 2020,\n        \"num_unique_values\": 36,\n        \"samples\": [\n          2020,\n          2013,\n          1991\n        ],\n        \"semantic_type\": \"\",\n        \"description\": \"\"\n      }\n    },\n    {\n      \"column\": \"coal\",\n      \"properties\": {\n        \"dtype\": \"number\",\n        \"std\": 712.4558427102113,\n        \"min\": 0.0,\n        \"max\": 9345.34099700259,\n        \"num_unique_values\": 2308,\n        \"samples\": [\n          139.66751000000002,\n          13.976,\n          69.4984232804067\n        ],\n        \"semantic_type\": \"\",\n        \"description\": \"\"\n      }\n    },\n    {\n      \"column\": \"gas\",\n      \"properties\": {\n        \"dtype\": \"number\",\n        \"std\": 342.98419017255924,\n        \"min\": 0.0,\n        \"max\": 5943.11232938508,\n        \"num_unique_values\": 3082,\n        \"samples\": [\n          17.1742,\n          2586.884947,\n          460.258957\n        ],\n        \"semantic_type\": \"\",\n        \"description\": \"\"\n      }\n    },\n    {\n      \"column\": \"hydro\",\n      \"properties\": {\n        \"dtype\": \"number\",\n        \"std\": 257.725337376926,\n        \"min\": 0.0,\n        \"max\": 4355.04163601371,\n        \"num_unique_values\": 4168,\n        \"samples\": [\n          0.164,\n          0.41382,\n          4.953\n        ],\n        \"semantic_type\": \"\",\n        \"description\": \"\"\n      }\n    },\n    {\n      \"column\": \"renewable_other\",\n      \"properties\": {\n        \"dtype\": \"number\",\n        \"std\": 32.334128306875016,\n        \"min\": 0.0,\n        \"max\": 702.887551555432,\n        \"num_unique_values\": 2403,\n        \"samples\": [\n          10.219,\n          0.1197,\n          1.14\n        ],\n        \"semantic_type\": \"\",\n        \"description\": \"\"\n      }\n    },\n    {\n      \"column\": \"solar\",\n      \"properties\": {\n        \"dtype\": \"number\",\n        \"std\": 21.726405520400856,\n        \"min\": 0.0,\n        \"max\": 844.385950939173,\n        \"num_unique_values\": 1441,\n        \"samples\": [\n          0.177,\n          0.0045385,\n          0.006161\n        ],\n        \"semantic_type\": \"\",\n        \"description\": \"\"\n      }\n    },\n    {\n      \"column\": \"oil\",\n      \"properties\": {\n        \"dtype\": \"number\",\n        \"std\": 110.22277172452137,\n        \"min\": 0.0,\n        \"max\": 1364.578206,\n        \"num_unique_values\": 3807,\n        \"samples\": [\n          2.81196135642955,\n          7.91574,\n          1.06677893118031\n        ],\n        \"semantic_type\": \"\",\n        \"description\": \"\"\n      }\n    },\n    {\n      \"column\": \"wind\",\n      \"properties\": {\n        \"dtype\": \"number\",\n        \"std\": 51.570080927810814,\n        \"min\": 0.0,\n        \"max\": 1590.18943960678,\n        \"num_unique_values\": 1667,\n        \"samples\": [\n          0.0490569999999999,\n          0.00045,\n          0.244661\n        ],\n        \"semantic_type\": \"\",\n        \"description\": \"\"\n      }\n    },\n    {\n      \"column\": \"nuclear\",\n      \"properties\": {\n        \"dtype\": \"number\",\n        \"std\": 227.2231442184941,\n        \"min\": 0.0,\n        \"max\": 2720.67447051699,\n        \"num_unique_values\": 1381,\n        \"samples\": [\n          14.418,\n          0.111111111,\n          198.994884\n        ],\n        \"semantic_type\": \"\",\n        \"description\": \"\"\n      }\n    }\n  ]\n}"
            }
          },
          "metadata": {},
          "execution_count": 4
        }
      ],
      "source": [
        "cols = ['country','code','year','coal','gas','hydro','renewable_other','solar','oil','wind','nuclear']\n",
        "df.columns = cols\n",
        "df.head()"
      ]
    },
    {
      "cell_type": "markdown",
      "id": "a75e2b6e-d49f-4650-9c8f-17def6f940c5",
      "metadata": {
        "id": "a75e2b6e-d49f-4650-9c8f-17def6f940c5"
      },
      "source": [
        "`.to_sql()` metodi yordamida jadvalni to'g'ridan to'g'ri omborga ko'chirishimiz mumkin.\n",
        "\n",
        "Jadvalga `jadval` deb yangi nom beramiz."
      ]
    },
    {
      "cell_type": "code",
      "execution_count": null,
      "id": "ac7acb84-2c76-491c-9559-8450152aeb41",
      "metadata": {
        "colab": {
          "base_uri": "https://localhost:8080/"
        },
        "id": "ac7acb84-2c76-491c-9559-8450152aeb41",
        "outputId": "c2ffb04d-a630-4a89-8431-c8173435bc15"
      },
      "outputs": [
        {
          "output_type": "execute_result",
          "data": {
            "text/plain": [
              "6241"
            ]
          },
          "metadata": {},
          "execution_count": 5
        }
      ],
      "source": [
        "df.to_sql('jadval',db)"
      ]
    },
    {
      "cell_type": "markdown",
      "id": "0c0e35b9-bf52-4885-bf26-78dbfac221c4",
      "metadata": {
        "id": "0c0e35b9-bf52-4885-bf26-78dbfac221c4"
      },
      "source": [
        "Jadvalni qaytib o'qiymiz"
      ]
    },
    {
      "cell_type": "code",
      "execution_count": null,
      "id": "b392202a-92ec-4825-8371-1ed7b3565f66",
      "metadata": {
        "id": "b392202a-92ec-4825-8371-1ed7b3565f66"
      },
      "outputs": [],
      "source": [
        "query = \"SELECT * FROM jadval\"\n",
        "df2 = pd.read_sql(query,db, index_col=\"index\")"
      ]
    },
    {
      "cell_type": "code",
      "execution_count": null,
      "id": "0299c51c-fd35-4f40-9246-18eca44354be",
      "metadata": {
        "colab": {
          "base_uri": "https://localhost:8080/",
          "height": 238
        },
        "id": "0299c51c-fd35-4f40-9246-18eca44354be",
        "outputId": "58a0f37e-09e6-4f94-b174-550b87f43f18"
      },
      "outputs": [
        {
          "output_type": "execute_result",
          "data": {
            "text/plain": [
              "           country code  year  coal    gas  hydro  renewable_other  solar  \\\n",
              "index                                                                       \n",
              "0      Afghanistan  AFG  2000   0.0  0.155  0.312              0.0    0.0   \n",
              "1      Afghanistan  AFG  2001   0.0  0.094  0.498              0.0    0.0   \n",
              "2      Afghanistan  AFG  2002   0.0  0.132  0.555              0.0    0.0   \n",
              "3      Afghanistan  AFG  2003   0.0  0.309  0.630              0.0    0.0   \n",
              "4      Afghanistan  AFG  2004   0.0  0.329  0.565              0.0    0.0   \n",
              "\n",
              "       oil  wind  nuclear  \n",
              "index                      \n",
              "0      0.0   0.0      0.0  \n",
              "1      0.0   0.0      0.0  \n",
              "2      0.0   0.0      0.0  \n",
              "3      0.0   0.0      0.0  \n",
              "4      0.0   0.0      0.0  "
            ],
            "text/html": [
              "\n",
              "  <div id=\"df-4d281051-4165-429f-bfac-92b09f2185a2\" class=\"colab-df-container\">\n",
              "    <div>\n",
              "<style scoped>\n",
              "    .dataframe tbody tr th:only-of-type {\n",
              "        vertical-align: middle;\n",
              "    }\n",
              "\n",
              "    .dataframe tbody tr th {\n",
              "        vertical-align: top;\n",
              "    }\n",
              "\n",
              "    .dataframe thead th {\n",
              "        text-align: right;\n",
              "    }\n",
              "</style>\n",
              "<table border=\"1\" class=\"dataframe\">\n",
              "  <thead>\n",
              "    <tr style=\"text-align: right;\">\n",
              "      <th></th>\n",
              "      <th>country</th>\n",
              "      <th>code</th>\n",
              "      <th>year</th>\n",
              "      <th>coal</th>\n",
              "      <th>gas</th>\n",
              "      <th>hydro</th>\n",
              "      <th>renewable_other</th>\n",
              "      <th>solar</th>\n",
              "      <th>oil</th>\n",
              "      <th>wind</th>\n",
              "      <th>nuclear</th>\n",
              "    </tr>\n",
              "    <tr>\n",
              "      <th>index</th>\n",
              "      <th></th>\n",
              "      <th></th>\n",
              "      <th></th>\n",
              "      <th></th>\n",
              "      <th></th>\n",
              "      <th></th>\n",
              "      <th></th>\n",
              "      <th></th>\n",
              "      <th></th>\n",
              "      <th></th>\n",
              "      <th></th>\n",
              "    </tr>\n",
              "  </thead>\n",
              "  <tbody>\n",
              "    <tr>\n",
              "      <th>0</th>\n",
              "      <td>Afghanistan</td>\n",
              "      <td>AFG</td>\n",
              "      <td>2000</td>\n",
              "      <td>0.0</td>\n",
              "      <td>0.155</td>\n",
              "      <td>0.312</td>\n",
              "      <td>0.0</td>\n",
              "      <td>0.0</td>\n",
              "      <td>0.0</td>\n",
              "      <td>0.0</td>\n",
              "      <td>0.0</td>\n",
              "    </tr>\n",
              "    <tr>\n",
              "      <th>1</th>\n",
              "      <td>Afghanistan</td>\n",
              "      <td>AFG</td>\n",
              "      <td>2001</td>\n",
              "      <td>0.0</td>\n",
              "      <td>0.094</td>\n",
              "      <td>0.498</td>\n",
              "      <td>0.0</td>\n",
              "      <td>0.0</td>\n",
              "      <td>0.0</td>\n",
              "      <td>0.0</td>\n",
              "      <td>0.0</td>\n",
              "    </tr>\n",
              "    <tr>\n",
              "      <th>2</th>\n",
              "      <td>Afghanistan</td>\n",
              "      <td>AFG</td>\n",
              "      <td>2002</td>\n",
              "      <td>0.0</td>\n",
              "      <td>0.132</td>\n",
              "      <td>0.555</td>\n",
              "      <td>0.0</td>\n",
              "      <td>0.0</td>\n",
              "      <td>0.0</td>\n",
              "      <td>0.0</td>\n",
              "      <td>0.0</td>\n",
              "    </tr>\n",
              "    <tr>\n",
              "      <th>3</th>\n",
              "      <td>Afghanistan</td>\n",
              "      <td>AFG</td>\n",
              "      <td>2003</td>\n",
              "      <td>0.0</td>\n",
              "      <td>0.309</td>\n",
              "      <td>0.630</td>\n",
              "      <td>0.0</td>\n",
              "      <td>0.0</td>\n",
              "      <td>0.0</td>\n",
              "      <td>0.0</td>\n",
              "      <td>0.0</td>\n",
              "    </tr>\n",
              "    <tr>\n",
              "      <th>4</th>\n",
              "      <td>Afghanistan</td>\n",
              "      <td>AFG</td>\n",
              "      <td>2004</td>\n",
              "      <td>0.0</td>\n",
              "      <td>0.329</td>\n",
              "      <td>0.565</td>\n",
              "      <td>0.0</td>\n",
              "      <td>0.0</td>\n",
              "      <td>0.0</td>\n",
              "      <td>0.0</td>\n",
              "      <td>0.0</td>\n",
              "    </tr>\n",
              "  </tbody>\n",
              "</table>\n",
              "</div>\n",
              "    <div class=\"colab-df-buttons\">\n",
              "\n",
              "  <div class=\"colab-df-container\">\n",
              "    <button class=\"colab-df-convert\" onclick=\"convertToInteractive('df-4d281051-4165-429f-bfac-92b09f2185a2')\"\n",
              "            title=\"Convert this dataframe to an interactive table.\"\n",
              "            style=\"display:none;\">\n",
              "\n",
              "  <svg xmlns=\"http://www.w3.org/2000/svg\" height=\"24px\" viewBox=\"0 -960 960 960\">\n",
              "    <path d=\"M120-120v-720h720v720H120Zm60-500h600v-160H180v160Zm220 220h160v-160H400v160Zm0 220h160v-160H400v160ZM180-400h160v-160H180v160Zm440 0h160v-160H620v160ZM180-180h160v-160H180v160Zm440 0h160v-160H620v160Z\"/>\n",
              "  </svg>\n",
              "    </button>\n",
              "\n",
              "  <style>\n",
              "    .colab-df-container {\n",
              "      display:flex;\n",
              "      gap: 12px;\n",
              "    }\n",
              "\n",
              "    .colab-df-convert {\n",
              "      background-color: #E8F0FE;\n",
              "      border: none;\n",
              "      border-radius: 50%;\n",
              "      cursor: pointer;\n",
              "      display: none;\n",
              "      fill: #1967D2;\n",
              "      height: 32px;\n",
              "      padding: 0 0 0 0;\n",
              "      width: 32px;\n",
              "    }\n",
              "\n",
              "    .colab-df-convert:hover {\n",
              "      background-color: #E2EBFA;\n",
              "      box-shadow: 0px 1px 2px rgba(60, 64, 67, 0.3), 0px 1px 3px 1px rgba(60, 64, 67, 0.15);\n",
              "      fill: #174EA6;\n",
              "    }\n",
              "\n",
              "    .colab-df-buttons div {\n",
              "      margin-bottom: 4px;\n",
              "    }\n",
              "\n",
              "    [theme=dark] .colab-df-convert {\n",
              "      background-color: #3B4455;\n",
              "      fill: #D2E3FC;\n",
              "    }\n",
              "\n",
              "    [theme=dark] .colab-df-convert:hover {\n",
              "      background-color: #434B5C;\n",
              "      box-shadow: 0px 1px 3px 1px rgba(0, 0, 0, 0.15);\n",
              "      filter: drop-shadow(0px 1px 2px rgba(0, 0, 0, 0.3));\n",
              "      fill: #FFFFFF;\n",
              "    }\n",
              "  </style>\n",
              "\n",
              "    <script>\n",
              "      const buttonEl =\n",
              "        document.querySelector('#df-4d281051-4165-429f-bfac-92b09f2185a2 button.colab-df-convert');\n",
              "      buttonEl.style.display =\n",
              "        google.colab.kernel.accessAllowed ? 'block' : 'none';\n",
              "\n",
              "      async function convertToInteractive(key) {\n",
              "        const element = document.querySelector('#df-4d281051-4165-429f-bfac-92b09f2185a2');\n",
              "        const dataTable =\n",
              "          await google.colab.kernel.invokeFunction('convertToInteractive',\n",
              "                                                    [key], {});\n",
              "        if (!dataTable) return;\n",
              "\n",
              "        const docLinkHtml = 'Like what you see? Visit the ' +\n",
              "          '<a target=\"_blank\" href=https://colab.research.google.com/notebooks/data_table.ipynb>data table notebook</a>'\n",
              "          + ' to learn more about interactive tables.';\n",
              "        element.innerHTML = '';\n",
              "        dataTable['output_type'] = 'display_data';\n",
              "        await google.colab.output.renderOutput(dataTable, element);\n",
              "        const docLink = document.createElement('div');\n",
              "        docLink.innerHTML = docLinkHtml;\n",
              "        element.appendChild(docLink);\n",
              "      }\n",
              "    </script>\n",
              "  </div>\n",
              "\n",
              "\n",
              "<div id=\"df-917dacc0-015c-4084-ae91-620ee1cb6724\">\n",
              "  <button class=\"colab-df-quickchart\" onclick=\"quickchart('df-917dacc0-015c-4084-ae91-620ee1cb6724')\"\n",
              "            title=\"Suggest charts\"\n",
              "            style=\"display:none;\">\n",
              "\n",
              "<svg xmlns=\"http://www.w3.org/2000/svg\" height=\"24px\"viewBox=\"0 0 24 24\"\n",
              "     width=\"24px\">\n",
              "    <g>\n",
              "        <path d=\"M19 3H5c-1.1 0-2 .9-2 2v14c0 1.1.9 2 2 2h14c1.1 0 2-.9 2-2V5c0-1.1-.9-2-2-2zM9 17H7v-7h2v7zm4 0h-2V7h2v10zm4 0h-2v-4h2v4z\"/>\n",
              "    </g>\n",
              "</svg>\n",
              "  </button>\n",
              "\n",
              "<style>\n",
              "  .colab-df-quickchart {\n",
              "      --bg-color: #E8F0FE;\n",
              "      --fill-color: #1967D2;\n",
              "      --hover-bg-color: #E2EBFA;\n",
              "      --hover-fill-color: #174EA6;\n",
              "      --disabled-fill-color: #AAA;\n",
              "      --disabled-bg-color: #DDD;\n",
              "  }\n",
              "\n",
              "  [theme=dark] .colab-df-quickchart {\n",
              "      --bg-color: #3B4455;\n",
              "      --fill-color: #D2E3FC;\n",
              "      --hover-bg-color: #434B5C;\n",
              "      --hover-fill-color: #FFFFFF;\n",
              "      --disabled-bg-color: #3B4455;\n",
              "      --disabled-fill-color: #666;\n",
              "  }\n",
              "\n",
              "  .colab-df-quickchart {\n",
              "    background-color: var(--bg-color);\n",
              "    border: none;\n",
              "    border-radius: 50%;\n",
              "    cursor: pointer;\n",
              "    display: none;\n",
              "    fill: var(--fill-color);\n",
              "    height: 32px;\n",
              "    padding: 0;\n",
              "    width: 32px;\n",
              "  }\n",
              "\n",
              "  .colab-df-quickchart:hover {\n",
              "    background-color: var(--hover-bg-color);\n",
              "    box-shadow: 0 1px 2px rgba(60, 64, 67, 0.3), 0 1px 3px 1px rgba(60, 64, 67, 0.15);\n",
              "    fill: var(--button-hover-fill-color);\n",
              "  }\n",
              "\n",
              "  .colab-df-quickchart-complete:disabled,\n",
              "  .colab-df-quickchart-complete:disabled:hover {\n",
              "    background-color: var(--disabled-bg-color);\n",
              "    fill: var(--disabled-fill-color);\n",
              "    box-shadow: none;\n",
              "  }\n",
              "\n",
              "  .colab-df-spinner {\n",
              "    border: 2px solid var(--fill-color);\n",
              "    border-color: transparent;\n",
              "    border-bottom-color: var(--fill-color);\n",
              "    animation:\n",
              "      spin 1s steps(1) infinite;\n",
              "  }\n",
              "\n",
              "  @keyframes spin {\n",
              "    0% {\n",
              "      border-color: transparent;\n",
              "      border-bottom-color: var(--fill-color);\n",
              "      border-left-color: var(--fill-color);\n",
              "    }\n",
              "    20% {\n",
              "      border-color: transparent;\n",
              "      border-left-color: var(--fill-color);\n",
              "      border-top-color: var(--fill-color);\n",
              "    }\n",
              "    30% {\n",
              "      border-color: transparent;\n",
              "      border-left-color: var(--fill-color);\n",
              "      border-top-color: var(--fill-color);\n",
              "      border-right-color: var(--fill-color);\n",
              "    }\n",
              "    40% {\n",
              "      border-color: transparent;\n",
              "      border-right-color: var(--fill-color);\n",
              "      border-top-color: var(--fill-color);\n",
              "    }\n",
              "    60% {\n",
              "      border-color: transparent;\n",
              "      border-right-color: var(--fill-color);\n",
              "    }\n",
              "    80% {\n",
              "      border-color: transparent;\n",
              "      border-right-color: var(--fill-color);\n",
              "      border-bottom-color: var(--fill-color);\n",
              "    }\n",
              "    90% {\n",
              "      border-color: transparent;\n",
              "      border-bottom-color: var(--fill-color);\n",
              "    }\n",
              "  }\n",
              "</style>\n",
              "\n",
              "  <script>\n",
              "    async function quickchart(key) {\n",
              "      const quickchartButtonEl =\n",
              "        document.querySelector('#' + key + ' button');\n",
              "      quickchartButtonEl.disabled = true;  // To prevent multiple clicks.\n",
              "      quickchartButtonEl.classList.add('colab-df-spinner');\n",
              "      try {\n",
              "        const charts = await google.colab.kernel.invokeFunction(\n",
              "            'suggestCharts', [key], {});\n",
              "      } catch (error) {\n",
              "        console.error('Error during call to suggestCharts:', error);\n",
              "      }\n",
              "      quickchartButtonEl.classList.remove('colab-df-spinner');\n",
              "      quickchartButtonEl.classList.add('colab-df-quickchart-complete');\n",
              "    }\n",
              "    (() => {\n",
              "      let quickchartButtonEl =\n",
              "        document.querySelector('#df-917dacc0-015c-4084-ae91-620ee1cb6724 button');\n",
              "      quickchartButtonEl.style.display =\n",
              "        google.colab.kernel.accessAllowed ? 'block' : 'none';\n",
              "    })();\n",
              "  </script>\n",
              "</div>\n",
              "\n",
              "    </div>\n",
              "  </div>\n"
            ],
            "application/vnd.google.colaboratory.intrinsic+json": {
              "type": "dataframe",
              "variable_name": "df2",
              "summary": "{\n  \"name\": \"df2\",\n  \"rows\": 6241,\n  \"fields\": [\n    {\n      \"column\": \"index\",\n      \"properties\": {\n        \"dtype\": \"number\",\n        \"std\": 1801,\n        \"min\": 0,\n        \"max\": 6240,\n        \"num_unique_values\": 6241,\n        \"samples\": [\n          5487,\n          2072,\n          4767\n        ],\n        \"semantic_type\": \"\",\n        \"description\": \"\"\n      }\n    },\n    {\n      \"column\": \"country\",\n      \"properties\": {\n        \"dtype\": \"category\",\n        \"num_unique_values\": 235,\n        \"samples\": [\n          \"Europe (other)\",\n          \"Tajikistan\",\n          \"Saint Lucia\"\n        ],\n        \"semantic_type\": \"\",\n        \"description\": \"\"\n      }\n    },\n    {\n      \"column\": \"code\",\n      \"properties\": {\n        \"dtype\": \"category\",\n        \"num_unique_values\": 211,\n        \"samples\": [\n          \"BFA\",\n          \"SOM\",\n          \"NOR\"\n        ],\n        \"semantic_type\": \"\",\n        \"description\": \"\"\n      }\n    },\n    {\n      \"column\": \"year\",\n      \"properties\": {\n        \"dtype\": \"number\",\n        \"std\": 9,\n        \"min\": 1985,\n        \"max\": 2020,\n        \"num_unique_values\": 36,\n        \"samples\": [\n          2020,\n          2013,\n          1991\n        ],\n        \"semantic_type\": \"\",\n        \"description\": \"\"\n      }\n    },\n    {\n      \"column\": \"coal\",\n      \"properties\": {\n        \"dtype\": \"number\",\n        \"std\": 712.4558427102113,\n        \"min\": 0.0,\n        \"max\": 9345.34099700259,\n        \"num_unique_values\": 2308,\n        \"samples\": [\n          139.66751000000002,\n          13.976,\n          69.4984232804067\n        ],\n        \"semantic_type\": \"\",\n        \"description\": \"\"\n      }\n    },\n    {\n      \"column\": \"gas\",\n      \"properties\": {\n        \"dtype\": \"number\",\n        \"std\": 342.98419017255924,\n        \"min\": 0.0,\n        \"max\": 5943.11232938508,\n        \"num_unique_values\": 3082,\n        \"samples\": [\n          17.1742,\n          2586.884947,\n          460.258957\n        ],\n        \"semantic_type\": \"\",\n        \"description\": \"\"\n      }\n    },\n    {\n      \"column\": \"hydro\",\n      \"properties\": {\n        \"dtype\": \"number\",\n        \"std\": 257.725337376926,\n        \"min\": 0.0,\n        \"max\": 4355.04163601371,\n        \"num_unique_values\": 4168,\n        \"samples\": [\n          0.164,\n          0.41382,\n          4.953\n        ],\n        \"semantic_type\": \"\",\n        \"description\": \"\"\n      }\n    },\n    {\n      \"column\": \"renewable_other\",\n      \"properties\": {\n        \"dtype\": \"number\",\n        \"std\": 32.334128306875016,\n        \"min\": 0.0,\n        \"max\": 702.887551555432,\n        \"num_unique_values\": 2403,\n        \"samples\": [\n          10.219,\n          0.1197,\n          1.14\n        ],\n        \"semantic_type\": \"\",\n        \"description\": \"\"\n      }\n    },\n    {\n      \"column\": \"solar\",\n      \"properties\": {\n        \"dtype\": \"number\",\n        \"std\": 21.726405520400856,\n        \"min\": 0.0,\n        \"max\": 844.385950939173,\n        \"num_unique_values\": 1441,\n        \"samples\": [\n          0.177,\n          0.0045385,\n          0.006161\n        ],\n        \"semantic_type\": \"\",\n        \"description\": \"\"\n      }\n    },\n    {\n      \"column\": \"oil\",\n      \"properties\": {\n        \"dtype\": \"number\",\n        \"std\": 110.22277172452137,\n        \"min\": 0.0,\n        \"max\": 1364.578206,\n        \"num_unique_values\": 3807,\n        \"samples\": [\n          2.81196135642955,\n          7.91574,\n          1.06677893118031\n        ],\n        \"semantic_type\": \"\",\n        \"description\": \"\"\n      }\n    },\n    {\n      \"column\": \"wind\",\n      \"properties\": {\n        \"dtype\": \"number\",\n        \"std\": 51.570080927810814,\n        \"min\": 0.0,\n        \"max\": 1590.18943960678,\n        \"num_unique_values\": 1667,\n        \"samples\": [\n          0.0490569999999999,\n          0.00045,\n          0.244661\n        ],\n        \"semantic_type\": \"\",\n        \"description\": \"\"\n      }\n    },\n    {\n      \"column\": \"nuclear\",\n      \"properties\": {\n        \"dtype\": \"number\",\n        \"std\": 227.2231442184941,\n        \"min\": 0.0,\n        \"max\": 2720.67447051699,\n        \"num_unique_values\": 1381,\n        \"samples\": [\n          14.418,\n          0.111111111,\n          198.994884\n        ],\n        \"semantic_type\": \"\",\n        \"description\": \"\"\n      }\n    }\n  ]\n}"
            }
          },
          "metadata": {},
          "execution_count": 7
        }
      ],
      "source": [
        "df2.head()"
      ]
    },
    {
      "cell_type": "code",
      "execution_count": null,
      "id": "67e2553f-b292-4c06-8541-2e17042ce0f9",
      "metadata": {
        "colab": {
          "base_uri": "https://localhost:8080/"
        },
        "id": "67e2553f-b292-4c06-8541-2e17042ce0f9",
        "outputId": "a00227fb-5602-49e3-e80f-102661e670d3"
      },
      "outputs": [
        {
          "output_type": "stream",
          "name": "stdout",
          "text": [
            "<class 'pandas.core.frame.DataFrame'>\n",
            "Index: 6241 entries, 0 to 6240\n",
            "Data columns (total 11 columns):\n",
            " #   Column           Non-Null Count  Dtype  \n",
            "---  ------           --------------  -----  \n",
            " 0   country          6241 non-null   object \n",
            " 1   code             5474 non-null   object \n",
            " 2   year             6241 non-null   int64  \n",
            " 3   coal             5221 non-null   float64\n",
            " 4   gas              5221 non-null   float64\n",
            " 5   hydro            6241 non-null   float64\n",
            " 6   renewable_other  6206 non-null   float64\n",
            " 7   solar            6241 non-null   float64\n",
            " 8   oil              5221 non-null   float64\n",
            " 9   wind             6241 non-null   float64\n",
            " 10  nuclear          6241 non-null   float64\n",
            "dtypes: float64(8), int64(1), object(2)\n",
            "memory usage: 585.1+ KB\n"
          ]
        }
      ],
      "source": [
        "df2.info()"
      ]
    },
    {
      "cell_type": "markdown",
      "id": "24632295-f397-43db-a59d-03c908d263c7",
      "metadata": {
        "id": "24632295-f397-43db-a59d-03c908d263c7"
      },
      "source": [
        "**Jadval yaratish qadamlari:**\n",
        "- `CREATE TABLE` - jadval yaratish buyrug'i\n",
        "- `IF NOT EXISTS` - jadval mavjud bo'lmasa\n",
        "- `worldpop` - jadval nomi\n",
        "- Qavs ichida jadval ustunlari, ustundagi ma'lumot turi va qo'shimcha parametrlar vergul bilan ajratib yoziladi.\n",
        "\n",
        "**Quyidagi misolada jadvalimiz 5 ta ustundan iborat:**\n",
        "- `rank` - davlat reytingi (zichlik bo'yicha), `INT` ya'ni butun son.\n",
        "- `country` - davlat nomi, `TEXT` - matn, `PRIMARY KEY` - birlamchi qiymat, qatorga shu ustun qiymati bilan murojaat qilinadi (takrorlanman bo'lishi kerak)\n",
        "- `density` - zichlik, `DOUBLE` - o'nlik son\n",
        "- `population` - aholi soni, `DOUBLE` - o'nlik son, `NOT NULL` - bo'sh bo'lmasligi (qiymat berilishi shart)\n",
        "- `area` - maydoni, `INT` - butun son, `NOT NULL` - qiymat berilishi shart."
      ]
    },
    {
      "cell_type": "code",
      "execution_count": null,
      "id": "d0a83736-93c2-45b9-8301-39e668c3d87a",
      "metadata": {
        "id": "d0a83736-93c2-45b9-8301-39e668c3d87a"
      },
      "outputs": [],
      "source": [
        "query = \"\"\"\n",
        "CREATE TABLE IF NOT EXISTS worldpop(\n",
        "rank INT,\n",
        "country TEXT PRIMARY KEY,\n",
        "density DOUBLE,\n",
        "population DOUBLE NOT NULL,\n",
        "area INT NOT NULL\n",
        ");\n",
        "\"\"\"\n",
        "cursor.execute(query)\n",
        "db.commit()"
      ]
    },
    {
      "cell_type": "markdown",
      "id": "fbee36fd-2131-461e-9bed-eeb722c94dea",
      "metadata": {
        "id": "fbee36fd-2131-461e-9bed-eeb722c94dea"
      },
      "source": [
        "Ahamiyat bering, endi o'zgartirish kiritgandan so'ng natijalarni xotiradan faylga yozish uchun `.commit()` metodiga murojaat qilayapmiz."
      ]
    },
    {
      "cell_type": "markdown",
      "id": "e9fed2a5-ea0e-43a8-bd7b-638e84beeb2c",
      "metadata": {
        "id": "e9fed2a5-ea0e-43a8-bd7b-638e84beeb2c"
      },
      "source": [
        "Jadval qo'shilganini tekshirib ko'ramiz"
      ]
    },
    {
      "cell_type": "code",
      "execution_count": null,
      "id": "e1442e68-0bb9-430b-bd98-90a635fc0a43",
      "metadata": {
        "colab": {
          "base_uri": "https://localhost:8080/"
        },
        "id": "e1442e68-0bb9-430b-bd98-90a635fc0a43",
        "outputId": "fdd6f4fc-88fa-4873-b0ca-787e1cde9b84"
      },
      "outputs": [
        {
          "output_type": "stream",
          "name": "stdout",
          "text": [
            "[('jadval',), ('worldpop',)]\n"
          ]
        }
      ],
      "source": [
        "cursor.execute(\"SELECT name FROM sqlite_master WHERE type='table';\")\n",
        "print(cursor.fetchall())"
      ]
    },
    {
      "cell_type": "markdown",
      "id": "cccdfbd8-2958-446a-bf15-b38111ab6465",
      "metadata": {
        "id": "cccdfbd8-2958-446a-bf15-b38111ab6465"
      },
      "source": [
        "Jadval ustunlarini tekshirib ko'ramiz"
      ]
    },
    {
      "cell_type": "code",
      "execution_count": null,
      "id": "a21183d2-6da8-40ca-862b-c9d134df91be",
      "metadata": {
        "colab": {
          "base_uri": "https://localhost:8080/"
        },
        "id": "a21183d2-6da8-40ca-862b-c9d134df91be",
        "outputId": "d84c5ac7-b434-4790-bcd9-645e0c03c6b2"
      },
      "outputs": [
        {
          "output_type": "execute_result",
          "data": {
            "text/plain": [
              "[(0, 'rank', 'INT', 0, None, 0),\n",
              " (1, 'country', 'TEXT', 0, None, 1),\n",
              " (2, 'density', 'DOUBLE', 0, None, 0),\n",
              " (3, 'population', 'DOUBLE', 1, None, 0),\n",
              " (4, 'area', 'INT', 1, None, 0)]"
            ]
          },
          "metadata": {},
          "execution_count": 11
        }
      ],
      "source": [
        "cursor.execute(\"PRAGMA table_info(worldpop);\")\n",
        "cursor.fetchall()"
      ]
    },
    {
      "cell_type": "markdown",
      "id": "0a96430c-63f5-454c-905c-422ae34a252d",
      "metadata": {
        "id": "0a96430c-63f5-454c-905c-422ae34a252d"
      },
      "source": [
        "Jadvalni o'qiymiz"
      ]
    },
    {
      "cell_type": "code",
      "execution_count": null,
      "id": "9e9d0163-5c66-4d92-8e45-b8f07131dce9",
      "metadata": {
        "colab": {
          "base_uri": "https://localhost:8080/",
          "height": 89
        },
        "id": "9e9d0163-5c66-4d92-8e45-b8f07131dce9",
        "outputId": "c56ff563-22c6-47d1-acb4-5e91d1639d35"
      },
      "outputs": [
        {
          "output_type": "execute_result",
          "data": {
            "text/plain": [
              "Empty DataFrame\n",
              "Columns: [rank, country, density, population, area]\n",
              "Index: []"
            ],
            "text/html": [
              "\n",
              "  <div id=\"df-c4496d6c-d8ad-4bb2-aca2-c66f4763204e\" class=\"colab-df-container\">\n",
              "    <div>\n",
              "<style scoped>\n",
              "    .dataframe tbody tr th:only-of-type {\n",
              "        vertical-align: middle;\n",
              "    }\n",
              "\n",
              "    .dataframe tbody tr th {\n",
              "        vertical-align: top;\n",
              "    }\n",
              "\n",
              "    .dataframe thead th {\n",
              "        text-align: right;\n",
              "    }\n",
              "</style>\n",
              "<table border=\"1\" class=\"dataframe\">\n",
              "  <thead>\n",
              "    <tr style=\"text-align: right;\">\n",
              "      <th></th>\n",
              "      <th>rank</th>\n",
              "      <th>country</th>\n",
              "      <th>density</th>\n",
              "      <th>population</th>\n",
              "      <th>area</th>\n",
              "    </tr>\n",
              "  </thead>\n",
              "  <tbody>\n",
              "  </tbody>\n",
              "</table>\n",
              "</div>\n",
              "    <div class=\"colab-df-buttons\">\n",
              "\n",
              "  <div class=\"colab-df-container\">\n",
              "    <button class=\"colab-df-convert\" onclick=\"convertToInteractive('df-c4496d6c-d8ad-4bb2-aca2-c66f4763204e')\"\n",
              "            title=\"Convert this dataframe to an interactive table.\"\n",
              "            style=\"display:none;\">\n",
              "\n",
              "  <svg xmlns=\"http://www.w3.org/2000/svg\" height=\"24px\" viewBox=\"0 -960 960 960\">\n",
              "    <path d=\"M120-120v-720h720v720H120Zm60-500h600v-160H180v160Zm220 220h160v-160H400v160Zm0 220h160v-160H400v160ZM180-400h160v-160H180v160Zm440 0h160v-160H620v160ZM180-180h160v-160H180v160Zm440 0h160v-160H620v160Z\"/>\n",
              "  </svg>\n",
              "    </button>\n",
              "\n",
              "  <style>\n",
              "    .colab-df-container {\n",
              "      display:flex;\n",
              "      gap: 12px;\n",
              "    }\n",
              "\n",
              "    .colab-df-convert {\n",
              "      background-color: #E8F0FE;\n",
              "      border: none;\n",
              "      border-radius: 50%;\n",
              "      cursor: pointer;\n",
              "      display: none;\n",
              "      fill: #1967D2;\n",
              "      height: 32px;\n",
              "      padding: 0 0 0 0;\n",
              "      width: 32px;\n",
              "    }\n",
              "\n",
              "    .colab-df-convert:hover {\n",
              "      background-color: #E2EBFA;\n",
              "      box-shadow: 0px 1px 2px rgba(60, 64, 67, 0.3), 0px 1px 3px 1px rgba(60, 64, 67, 0.15);\n",
              "      fill: #174EA6;\n",
              "    }\n",
              "\n",
              "    .colab-df-buttons div {\n",
              "      margin-bottom: 4px;\n",
              "    }\n",
              "\n",
              "    [theme=dark] .colab-df-convert {\n",
              "      background-color: #3B4455;\n",
              "      fill: #D2E3FC;\n",
              "    }\n",
              "\n",
              "    [theme=dark] .colab-df-convert:hover {\n",
              "      background-color: #434B5C;\n",
              "      box-shadow: 0px 1px 3px 1px rgba(0, 0, 0, 0.15);\n",
              "      filter: drop-shadow(0px 1px 2px rgba(0, 0, 0, 0.3));\n",
              "      fill: #FFFFFF;\n",
              "    }\n",
              "  </style>\n",
              "\n",
              "    <script>\n",
              "      const buttonEl =\n",
              "        document.querySelector('#df-c4496d6c-d8ad-4bb2-aca2-c66f4763204e button.colab-df-convert');\n",
              "      buttonEl.style.display =\n",
              "        google.colab.kernel.accessAllowed ? 'block' : 'none';\n",
              "\n",
              "      async function convertToInteractive(key) {\n",
              "        const element = document.querySelector('#df-c4496d6c-d8ad-4bb2-aca2-c66f4763204e');\n",
              "        const dataTable =\n",
              "          await google.colab.kernel.invokeFunction('convertToInteractive',\n",
              "                                                    [key], {});\n",
              "        if (!dataTable) return;\n",
              "\n",
              "        const docLinkHtml = 'Like what you see? Visit the ' +\n",
              "          '<a target=\"_blank\" href=https://colab.research.google.com/notebooks/data_table.ipynb>data table notebook</a>'\n",
              "          + ' to learn more about interactive tables.';\n",
              "        element.innerHTML = '';\n",
              "        dataTable['output_type'] = 'display_data';\n",
              "        await google.colab.output.renderOutput(dataTable, element);\n",
              "        const docLink = document.createElement('div');\n",
              "        docLink.innerHTML = docLinkHtml;\n",
              "        element.appendChild(docLink);\n",
              "      }\n",
              "    </script>\n",
              "  </div>\n",
              "\n",
              "\n",
              "  <div id=\"id_bf25db61-08ad-4d8f-b3e3-6a3aad86e0d6\">\n",
              "    <style>\n",
              "      .colab-df-generate {\n",
              "        background-color: #E8F0FE;\n",
              "        border: none;\n",
              "        border-radius: 50%;\n",
              "        cursor: pointer;\n",
              "        display: none;\n",
              "        fill: #1967D2;\n",
              "        height: 32px;\n",
              "        padding: 0 0 0 0;\n",
              "        width: 32px;\n",
              "      }\n",
              "\n",
              "      .colab-df-generate:hover {\n",
              "        background-color: #E2EBFA;\n",
              "        box-shadow: 0px 1px 2px rgba(60, 64, 67, 0.3), 0px 1px 3px 1px rgba(60, 64, 67, 0.15);\n",
              "        fill: #174EA6;\n",
              "      }\n",
              "\n",
              "      [theme=dark] .colab-df-generate {\n",
              "        background-color: #3B4455;\n",
              "        fill: #D2E3FC;\n",
              "      }\n",
              "\n",
              "      [theme=dark] .colab-df-generate:hover {\n",
              "        background-color: #434B5C;\n",
              "        box-shadow: 0px 1px 3px 1px rgba(0, 0, 0, 0.15);\n",
              "        filter: drop-shadow(0px 1px 2px rgba(0, 0, 0, 0.3));\n",
              "        fill: #FFFFFF;\n",
              "      }\n",
              "    </style>\n",
              "    <button class=\"colab-df-generate\" onclick=\"generateWithVariable('df3')\"\n",
              "            title=\"Generate code using this dataframe.\"\n",
              "            style=\"display:none;\">\n",
              "\n",
              "  <svg xmlns=\"http://www.w3.org/2000/svg\" height=\"24px\"viewBox=\"0 0 24 24\"\n",
              "       width=\"24px\">\n",
              "    <path d=\"M7,19H8.4L18.45,9,17,7.55,7,17.6ZM5,21V16.75L18.45,3.32a2,2,0,0,1,2.83,0l1.4,1.43a1.91,1.91,0,0,1,.58,1.4,1.91,1.91,0,0,1-.58,1.4L9.25,21ZM18.45,9,17,7.55Zm-12,3A5.31,5.31,0,0,0,4.9,8.1,5.31,5.31,0,0,0,1,6.5,5.31,5.31,0,0,0,4.9,4.9,5.31,5.31,0,0,0,6.5,1,5.31,5.31,0,0,0,8.1,4.9,5.31,5.31,0,0,0,12,6.5,5.46,5.46,0,0,0,6.5,12Z\"/>\n",
              "  </svg>\n",
              "    </button>\n",
              "    <script>\n",
              "      (() => {\n",
              "      const buttonEl =\n",
              "        document.querySelector('#id_bf25db61-08ad-4d8f-b3e3-6a3aad86e0d6 button.colab-df-generate');\n",
              "      buttonEl.style.display =\n",
              "        google.colab.kernel.accessAllowed ? 'block' : 'none';\n",
              "\n",
              "      buttonEl.onclick = () => {\n",
              "        google.colab.notebook.generateWithVariable('df3');\n",
              "      }\n",
              "      })();\n",
              "    </script>\n",
              "  </div>\n",
              "\n",
              "    </div>\n",
              "  </div>\n"
            ],
            "application/vnd.google.colaboratory.intrinsic+json": {
              "type": "dataframe",
              "variable_name": "df3",
              "repr_error": "Out of range float values are not JSON compliant: nan"
            }
          },
          "metadata": {},
          "execution_count": 12
        }
      ],
      "source": [
        "query = \"SELECT * FROM worldpop\"\n",
        "df3 = pd.read_sql(query,db)\n",
        "df3"
      ]
    },
    {
      "cell_type": "markdown",
      "id": "3ab2e897-8e17-43e6-86df-9e5f2187451f",
      "metadata": {
        "id": "3ab2e897-8e17-43e6-86df-9e5f2187451f"
      },
      "source": [
        "Hozircha jadval bo'sh."
      ]
    },
    {
      "cell_type": "markdown",
      "id": "035ecfb5-6741-41c5-bab4-86400a93a147",
      "metadata": {
        "id": "035ecfb5-6741-41c5-bab4-86400a93a147"
      },
      "source": [
        "## Jadvalga yangi ma'lumot qo'shish\n",
        "SQL jadvlaga ushbu manzilda joylashgan ma'lumotlarni kiritamiz: https://github.com/anvarnarz/praktikum_datasets/blob/main/world_population.csv\n",
        "\n",
        "![Imgur](https://i.imgur.com/lilTCTm.png)"
      ]
    },
    {
      "cell_type": "markdown",
      "id": "a0f59715-6a54-4a79-ba2a-ae732a5b6531",
      "metadata": {
        "id": "a0f59715-6a54-4a79-ba2a-ae732a5b6531"
      },
      "source": [
        "Keling SQL jadvalga yuqoridan `Macau` davlatiga oid ma'lumotlarni kiritamiz.\n",
        "\n",
        "Agar barcha ustunlar uchun qiymat berayotgan bo'lsak to'g'ridan-to'g'ri qiymatlarni yozamiz. Bunda qiymatlar tartibi jadval ustunlari ketma-ketligi bilan mos tushishiga ahamiyat bering:"
      ]
    },
    {
      "cell_type": "code",
      "execution_count": null,
      "id": "2de9b03e-35f7-4491-87f8-aaee2700b436",
      "metadata": {
        "id": "2de9b03e-35f7-4491-87f8-aaee2700b436"
      },
      "outputs": [],
      "source": [
        "query = \"INSERT INTO worldpop VALUES (1, 'Macau', 21946.4667, 658.3940, 30)\"\n",
        "cursor.execute(query)\n",
        "db.commit()"
      ]
    },
    {
      "cell_type": "markdown",
      "id": "b99fa94a-75f2-44ec-a3f0-65b5a513188c",
      "metadata": {
        "id": "b99fa94a-75f2-44ec-a3f0-65b5a513188c"
      },
      "source": [
        "Qiymat qo'shilganini tekshirib ko'ramiz:"
      ]
    },
    {
      "cell_type": "code",
      "execution_count": null,
      "id": "bb8ea572-9bd4-4e16-817b-a28d0974fe64",
      "metadata": {
        "colab": {
          "base_uri": "https://localhost:8080/"
        },
        "id": "bb8ea572-9bd4-4e16-817b-a28d0974fe64",
        "outputId": "5f7161e8-de65-4b24-8c1f-4d67b2e80fab"
      },
      "outputs": [
        {
          "output_type": "execute_result",
          "data": {
            "text/plain": [
              "[(1, 'Macau', 21946.4667, 658.394, 30)]"
            ]
          },
          "metadata": {},
          "execution_count": 14
        }
      ],
      "source": [
        "query = \"SELECT * FROM worldpop\"\n",
        "cursor.execute(query)\n",
        "cursor.fetchall()"
      ]
    },
    {
      "cell_type": "code",
      "execution_count": null,
      "id": "9dfaa692-85a3-49ef-a251-3040c457e4b4",
      "metadata": {
        "colab": {
          "base_uri": "https://localhost:8080/",
          "height": 81
        },
        "id": "9dfaa692-85a3-49ef-a251-3040c457e4b4",
        "outputId": "6ee359d8-bef3-448c-b48d-6bcbfd6fa437"
      },
      "outputs": [
        {
          "output_type": "execute_result",
          "data": {
            "text/plain": [
              "   rank country     density  population  area\n",
              "0     1   Macau  21946.4667     658.394    30"
            ],
            "text/html": [
              "\n",
              "  <div id=\"df-2fdc6e39-6b35-438d-81ed-8626dfa7b653\" class=\"colab-df-container\">\n",
              "    <div>\n",
              "<style scoped>\n",
              "    .dataframe tbody tr th:only-of-type {\n",
              "        vertical-align: middle;\n",
              "    }\n",
              "\n",
              "    .dataframe tbody tr th {\n",
              "        vertical-align: top;\n",
              "    }\n",
              "\n",
              "    .dataframe thead th {\n",
              "        text-align: right;\n",
              "    }\n",
              "</style>\n",
              "<table border=\"1\" class=\"dataframe\">\n",
              "  <thead>\n",
              "    <tr style=\"text-align: right;\">\n",
              "      <th></th>\n",
              "      <th>rank</th>\n",
              "      <th>country</th>\n",
              "      <th>density</th>\n",
              "      <th>population</th>\n",
              "      <th>area</th>\n",
              "    </tr>\n",
              "  </thead>\n",
              "  <tbody>\n",
              "    <tr>\n",
              "      <th>0</th>\n",
              "      <td>1</td>\n",
              "      <td>Macau</td>\n",
              "      <td>21946.4667</td>\n",
              "      <td>658.394</td>\n",
              "      <td>30</td>\n",
              "    </tr>\n",
              "  </tbody>\n",
              "</table>\n",
              "</div>\n",
              "    <div class=\"colab-df-buttons\">\n",
              "\n",
              "  <div class=\"colab-df-container\">\n",
              "    <button class=\"colab-df-convert\" onclick=\"convertToInteractive('df-2fdc6e39-6b35-438d-81ed-8626dfa7b653')\"\n",
              "            title=\"Convert this dataframe to an interactive table.\"\n",
              "            style=\"display:none;\">\n",
              "\n",
              "  <svg xmlns=\"http://www.w3.org/2000/svg\" height=\"24px\" viewBox=\"0 -960 960 960\">\n",
              "    <path d=\"M120-120v-720h720v720H120Zm60-500h600v-160H180v160Zm220 220h160v-160H400v160Zm0 220h160v-160H400v160ZM180-400h160v-160H180v160Zm440 0h160v-160H620v160ZM180-180h160v-160H180v160Zm440 0h160v-160H620v160Z\"/>\n",
              "  </svg>\n",
              "    </button>\n",
              "\n",
              "  <style>\n",
              "    .colab-df-container {\n",
              "      display:flex;\n",
              "      gap: 12px;\n",
              "    }\n",
              "\n",
              "    .colab-df-convert {\n",
              "      background-color: #E8F0FE;\n",
              "      border: none;\n",
              "      border-radius: 50%;\n",
              "      cursor: pointer;\n",
              "      display: none;\n",
              "      fill: #1967D2;\n",
              "      height: 32px;\n",
              "      padding: 0 0 0 0;\n",
              "      width: 32px;\n",
              "    }\n",
              "\n",
              "    .colab-df-convert:hover {\n",
              "      background-color: #E2EBFA;\n",
              "      box-shadow: 0px 1px 2px rgba(60, 64, 67, 0.3), 0px 1px 3px 1px rgba(60, 64, 67, 0.15);\n",
              "      fill: #174EA6;\n",
              "    }\n",
              "\n",
              "    .colab-df-buttons div {\n",
              "      margin-bottom: 4px;\n",
              "    }\n",
              "\n",
              "    [theme=dark] .colab-df-convert {\n",
              "      background-color: #3B4455;\n",
              "      fill: #D2E3FC;\n",
              "    }\n",
              "\n",
              "    [theme=dark] .colab-df-convert:hover {\n",
              "      background-color: #434B5C;\n",
              "      box-shadow: 0px 1px 3px 1px rgba(0, 0, 0, 0.15);\n",
              "      filter: drop-shadow(0px 1px 2px rgba(0, 0, 0, 0.3));\n",
              "      fill: #FFFFFF;\n",
              "    }\n",
              "  </style>\n",
              "\n",
              "    <script>\n",
              "      const buttonEl =\n",
              "        document.querySelector('#df-2fdc6e39-6b35-438d-81ed-8626dfa7b653 button.colab-df-convert');\n",
              "      buttonEl.style.display =\n",
              "        google.colab.kernel.accessAllowed ? 'block' : 'none';\n",
              "\n",
              "      async function convertToInteractive(key) {\n",
              "        const element = document.querySelector('#df-2fdc6e39-6b35-438d-81ed-8626dfa7b653');\n",
              "        const dataTable =\n",
              "          await google.colab.kernel.invokeFunction('convertToInteractive',\n",
              "                                                    [key], {});\n",
              "        if (!dataTable) return;\n",
              "\n",
              "        const docLinkHtml = 'Like what you see? Visit the ' +\n",
              "          '<a target=\"_blank\" href=https://colab.research.google.com/notebooks/data_table.ipynb>data table notebook</a>'\n",
              "          + ' to learn more about interactive tables.';\n",
              "        element.innerHTML = '';\n",
              "        dataTable['output_type'] = 'display_data';\n",
              "        await google.colab.output.renderOutput(dataTable, element);\n",
              "        const docLink = document.createElement('div');\n",
              "        docLink.innerHTML = docLinkHtml;\n",
              "        element.appendChild(docLink);\n",
              "      }\n",
              "    </script>\n",
              "  </div>\n",
              "\n",
              "\n",
              "    </div>\n",
              "  </div>\n"
            ],
            "application/vnd.google.colaboratory.intrinsic+json": {
              "type": "dataframe",
              "summary": "{\n  \"name\": \"pd\",\n  \"rows\": 1,\n  \"fields\": [\n    {\n      \"column\": \"rank\",\n      \"properties\": {\n        \"dtype\": \"number\",\n        \"std\": null,\n        \"min\": 1,\n        \"max\": 1,\n        \"num_unique_values\": 1,\n        \"samples\": [\n          1\n        ],\n        \"semantic_type\": \"\",\n        \"description\": \"\"\n      }\n    },\n    {\n      \"column\": \"country\",\n      \"properties\": {\n        \"dtype\": \"string\",\n        \"num_unique_values\": 1,\n        \"samples\": [\n          \"Macau\"\n        ],\n        \"semantic_type\": \"\",\n        \"description\": \"\"\n      }\n    },\n    {\n      \"column\": \"density\",\n      \"properties\": {\n        \"dtype\": \"number\",\n        \"std\": null,\n        \"min\": 21946.4667,\n        \"max\": 21946.4667,\n        \"num_unique_values\": 1,\n        \"samples\": [\n          21946.4667\n        ],\n        \"semantic_type\": \"\",\n        \"description\": \"\"\n      }\n    },\n    {\n      \"column\": \"population\",\n      \"properties\": {\n        \"dtype\": \"number\",\n        \"std\": null,\n        \"min\": 658.394,\n        \"max\": 658.394,\n        \"num_unique_values\": 1,\n        \"samples\": [\n          658.394\n        ],\n        \"semantic_type\": \"\",\n        \"description\": \"\"\n      }\n    },\n    {\n      \"column\": \"area\",\n      \"properties\": {\n        \"dtype\": \"number\",\n        \"std\": null,\n        \"min\": 30,\n        \"max\": 30,\n        \"num_unique_values\": 1,\n        \"samples\": [\n          30\n        ],\n        \"semantic_type\": \"\",\n        \"description\": \"\"\n      }\n    }\n  ]\n}"
            }
          },
          "metadata": {},
          "execution_count": 15
        }
      ],
      "source": [
        "pd.read_sql(query,db)"
      ]
    },
    {
      "cell_type": "markdown",
      "id": "fbc43e34-cefc-4796-9923-6efdcbc38117",
      "metadata": {
        "id": "fbc43e34-cefc-4796-9923-6efdcbc38117"
      },
      "source": [
        "Agar faqatgina ma'lum ustunlarga qiymat qo'shilsa, avval ustun nomlari yoziladi. Keling jadvlaga O'zbekiston haqida quyidagi ma'lumotlarni qo'shamiz:\n",
        "- `country` = `Uzbekistan`\n",
        "- `population` = `33935.7630`\n",
        "- `area` = `447400`"
      ]
    },
    {
      "cell_type": "code",
      "execution_count": null,
      "id": "5eae9139-107f-4bfc-99ad-ec3295cc1f95",
      "metadata": {
        "id": "5eae9139-107f-4bfc-99ad-ec3295cc1f95"
      },
      "outputs": [],
      "source": [
        "query = \"\"\"\n",
        "INSERT INTO worldpop (country,population,area)\n",
        "VALUES ('Uzbekistan', 33935.7630, 447400)\n",
        "\"\"\"\n",
        "cursor.execute(query)\n",
        "db.commit()"
      ]
    },
    {
      "cell_type": "markdown",
      "id": "a49860c4-73a8-47a4-8346-128e00908360",
      "metadata": {
        "id": "a49860c4-73a8-47a4-8346-128e00908360"
      },
      "source": [
        "Tekshirib ko'ramiz"
      ]
    },
    {
      "cell_type": "code",
      "execution_count": null,
      "id": "4efe97df-8ab4-4bdd-a670-54d681b5ceaa",
      "metadata": {
        "colab": {
          "base_uri": "https://localhost:8080/"
        },
        "id": "4efe97df-8ab4-4bdd-a670-54d681b5ceaa",
        "outputId": "7311ac3b-b797-4f83-8cb3-a0caa916fba3"
      },
      "outputs": [
        {
          "output_type": "execute_result",
          "data": {
            "text/plain": [
              "[(1, 'Macau', 21946.4667, 658.394, 30),\n",
              " (None, 'Uzbekistan', None, 33935.763, 447400)]"
            ]
          },
          "metadata": {},
          "execution_count": 17
        }
      ],
      "source": [
        "query = \"SELECT * FROM worldpop\"\n",
        "cursor.execute(query)\n",
        "cursor.fetchall()"
      ]
    },
    {
      "cell_type": "markdown",
      "id": "694d85ed-a634-478d-ae71-5e4de57c9858",
      "metadata": {
        "id": "694d85ed-a634-478d-ae71-5e4de57c9858"
      },
      "source": [
        "Ko'rib turganingizdek mavjud bo'lmagan qiymatlar o'rniga `None` qo'yb ketildi."
      ]
    },
    {
      "cell_type": "markdown",
      "id": "542a259c-4b60-4296-aaa3-ca97cdde7d31",
      "metadata": {
        "id": "542a259c-4b60-4296-aaa3-ca97cdde7d31"
      },
      "source": [
        "## Ma'lumotlarni yangilash/qo'shish\n",
        "`Uzbekistan` qatoriga `rank` va `density` qiymatlarini qo'shamiz."
      ]
    },
    {
      "cell_type": "code",
      "execution_count": null,
      "id": "445f428f-b03d-4535-be89-74e93ee2cec2",
      "metadata": {
        "id": "445f428f-b03d-4535-be89-74e93ee2cec2"
      },
      "outputs": [],
      "source": [
        "query = \"\"\"\n",
        "UPDATE worldpop\n",
        "SET rank=133, density=75.8511\n",
        "WHERE country=\"Uzbekistan\"\n",
        "\"\"\"\n",
        "cursor.execute(query)\n",
        "db.commit()"
      ]
    },
    {
      "cell_type": "markdown",
      "id": "aa5f513e-d0f8-4023-8708-453d08b0b2bb",
      "metadata": {
        "id": "aa5f513e-d0f8-4023-8708-453d08b0b2bb"
      },
      "source": [
        "Tekshirib ko'ramiz"
      ]
    },
    {
      "cell_type": "code",
      "execution_count": null,
      "id": "ee1219f7-234f-4a7e-a753-27791a7fe6b2",
      "metadata": {
        "colab": {
          "base_uri": "https://localhost:8080/"
        },
        "id": "ee1219f7-234f-4a7e-a753-27791a7fe6b2",
        "outputId": "c6792248-db28-46ff-960b-a4b20c9ea35d"
      },
      "outputs": [
        {
          "output_type": "execute_result",
          "data": {
            "text/plain": [
              "[(1, 'Macau', 21946.4667, 658.394, 30),\n",
              " (133, 'Uzbekistan', 75.8511, 33935.763, 447400)]"
            ]
          },
          "metadata": {},
          "execution_count": 19
        }
      ],
      "source": [
        "query = \"SELECT * FROM worldpop\"\n",
        "cursor.execute(query)\n",
        "cursor.fetchall()"
      ]
    },
    {
      "cell_type": "markdown",
      "id": "d3da8a94-59e4-4af1-b216-9af8dae393f5",
      "metadata": {
        "id": "d3da8a94-59e4-4af1-b216-9af8dae393f5"
      },
      "source": [
        "## Jadvaldan ma'lumot o'chirish"
      ]
    },
    {
      "cell_type": "code",
      "execution_count": null,
      "id": "3d5bf28b-fd6d-439d-8413-fddfea2d4471",
      "metadata": {
        "id": "3d5bf28b-fd6d-439d-8413-fddfea2d4471"
      },
      "outputs": [],
      "source": [
        "query = 'DELETE FROM worldpop WHERE country=\"Macau\"'\n",
        "cursor.execute(query)\n",
        "db.commit()"
      ]
    },
    {
      "cell_type": "markdown",
      "id": "3dfa55e4-8fa8-419a-acc0-9377e98f0a79",
      "metadata": {
        "id": "3dfa55e4-8fa8-419a-acc0-9377e98f0a79"
      },
      "source": [
        "Tekshirib ko'ramiz"
      ]
    },
    {
      "cell_type": "code",
      "execution_count": null,
      "id": "f1978c16-bd77-448c-b9af-f7b2d0119bbe",
      "metadata": {
        "colab": {
          "base_uri": "https://localhost:8080/"
        },
        "id": "f1978c16-bd77-448c-b9af-f7b2d0119bbe",
        "outputId": "adc18444-388c-450c-91ee-93b4298af96b"
      },
      "outputs": [
        {
          "output_type": "execute_result",
          "data": {
            "text/plain": [
              "[(133, 'Uzbekistan', 75.8511, 33935.763, 447400)]"
            ]
          },
          "metadata": {},
          "execution_count": 21
        }
      ],
      "source": [
        "query = \"SELECT * FROM worldpop\"\n",
        "cursor.execute(query)\n",
        "cursor.fetchall()"
      ]
    },
    {
      "cell_type": "markdown",
      "id": "3a001e27-ea00-4665-8f5d-fcbf91dbf163",
      "metadata": {
        "id": "3a001e27-ea00-4665-8f5d-fcbf91dbf163"
      },
      "source": [
        "## Jadvalni butunlay o'chirib tashlash"
      ]
    },
    {
      "cell_type": "code",
      "execution_count": null,
      "id": "17552add-4b79-4367-a09e-4a1db677b937",
      "metadata": {
        "id": "17552add-4b79-4367-a09e-4a1db677b937"
      },
      "outputs": [],
      "source": [
        "cursor.execute('DROP TABLE worldpop')\n",
        "db.commit()"
      ]
    },
    {
      "cell_type": "code",
      "execution_count": null,
      "id": "8a3143f1-8d7d-4e56-ad0d-e8b05ab50eba",
      "metadata": {
        "colab": {
          "base_uri": "https://localhost:8080/"
        },
        "id": "8a3143f1-8d7d-4e56-ad0d-e8b05ab50eba",
        "outputId": "37531d55-d8e5-4bfa-c1cd-198b8af41714"
      },
      "outputs": [
        {
          "output_type": "stream",
          "name": "stdout",
          "text": [
            "[('jadval',)]\n"
          ]
        }
      ],
      "source": [
        "cursor.execute(\"SELECT name FROM sqlite_master WHERE type='table';\")\n",
        "print(cursor.fetchall())"
      ]
    },
    {
      "cell_type": "markdown",
      "id": "e458e5a1-dbcf-459d-90bc-fc124faa0c83",
      "metadata": {
        "id": "e458e5a1-dbcf-459d-90bc-fc124faa0c83"
      },
      "source": [
        "# SQL buyruqlarni f-string yordamida yozish\n",
        "Biz yuqorida SQL buyruqlarni oddiy matn ko'rinishida yozayapamiz, demak Pythondagi f-string yordamida matnlarga o'zgaruvchilarning qiymatini ham qo'shish mumkin.\n",
        "\n",
        "Keling boshlanishiga quyidagi DF ni yaratib olamiz, so'ngra DF qatorlarini yangi SQL jadvalga f-string yordamida yozamiz."
      ]
    },
    {
      "cell_type": "code",
      "execution_count": null,
      "id": "96355a4e-b98d-4ace-ba29-71403bbb2f8d",
      "metadata": {
        "colab": {
          "base_uri": "https://localhost:8080/",
          "height": 238
        },
        "id": "96355a4e-b98d-4ace-ba29-71403bbb2f8d",
        "outputId": "429acbf8-e397-4583-ef92-8b76741d707f"
      },
      "outputs": [
        {
          "output_type": "execute_result",
          "data": {
            "text/plain": [
              "        country     density   densityMi   pop2021  area\n",
              "rank                                                   \n",
              "1         Macau  21946.4667  56841.3487   658.394    30\n",
              "2        Monaco  19755.5000  51166.7450    39.511     2\n",
              "3     Singapore   8305.1915  21510.4461  5896.686   710\n",
              "4     Hong Kong   6841.3134  17719.0017  7552.810  1104\n",
              "5     Gibraltar   5616.3333  14546.3033    33.698     6"
            ],
            "text/html": [
              "\n",
              "  <div id=\"df-d5e9698b-1a86-4c73-86f5-a92f1a53dd77\" class=\"colab-df-container\">\n",
              "    <div>\n",
              "<style scoped>\n",
              "    .dataframe tbody tr th:only-of-type {\n",
              "        vertical-align: middle;\n",
              "    }\n",
              "\n",
              "    .dataframe tbody tr th {\n",
              "        vertical-align: top;\n",
              "    }\n",
              "\n",
              "    .dataframe thead th {\n",
              "        text-align: right;\n",
              "    }\n",
              "</style>\n",
              "<table border=\"1\" class=\"dataframe\">\n",
              "  <thead>\n",
              "    <tr style=\"text-align: right;\">\n",
              "      <th></th>\n",
              "      <th>country</th>\n",
              "      <th>density</th>\n",
              "      <th>densityMi</th>\n",
              "      <th>pop2021</th>\n",
              "      <th>area</th>\n",
              "    </tr>\n",
              "    <tr>\n",
              "      <th>rank</th>\n",
              "      <th></th>\n",
              "      <th></th>\n",
              "      <th></th>\n",
              "      <th></th>\n",
              "      <th></th>\n",
              "    </tr>\n",
              "  </thead>\n",
              "  <tbody>\n",
              "    <tr>\n",
              "      <th>1</th>\n",
              "      <td>Macau</td>\n",
              "      <td>21946.4667</td>\n",
              "      <td>56841.3487</td>\n",
              "      <td>658.394</td>\n",
              "      <td>30</td>\n",
              "    </tr>\n",
              "    <tr>\n",
              "      <th>2</th>\n",
              "      <td>Monaco</td>\n",
              "      <td>19755.5000</td>\n",
              "      <td>51166.7450</td>\n",
              "      <td>39.511</td>\n",
              "      <td>2</td>\n",
              "    </tr>\n",
              "    <tr>\n",
              "      <th>3</th>\n",
              "      <td>Singapore</td>\n",
              "      <td>8305.1915</td>\n",
              "      <td>21510.4461</td>\n",
              "      <td>5896.686</td>\n",
              "      <td>710</td>\n",
              "    </tr>\n",
              "    <tr>\n",
              "      <th>4</th>\n",
              "      <td>Hong Kong</td>\n",
              "      <td>6841.3134</td>\n",
              "      <td>17719.0017</td>\n",
              "      <td>7552.810</td>\n",
              "      <td>1104</td>\n",
              "    </tr>\n",
              "    <tr>\n",
              "      <th>5</th>\n",
              "      <td>Gibraltar</td>\n",
              "      <td>5616.3333</td>\n",
              "      <td>14546.3033</td>\n",
              "      <td>33.698</td>\n",
              "      <td>6</td>\n",
              "    </tr>\n",
              "  </tbody>\n",
              "</table>\n",
              "</div>\n",
              "    <div class=\"colab-df-buttons\">\n",
              "\n",
              "  <div class=\"colab-df-container\">\n",
              "    <button class=\"colab-df-convert\" onclick=\"convertToInteractive('df-d5e9698b-1a86-4c73-86f5-a92f1a53dd77')\"\n",
              "            title=\"Convert this dataframe to an interactive table.\"\n",
              "            style=\"display:none;\">\n",
              "\n",
              "  <svg xmlns=\"http://www.w3.org/2000/svg\" height=\"24px\" viewBox=\"0 -960 960 960\">\n",
              "    <path d=\"M120-120v-720h720v720H120Zm60-500h600v-160H180v160Zm220 220h160v-160H400v160Zm0 220h160v-160H400v160ZM180-400h160v-160H180v160Zm440 0h160v-160H620v160ZM180-180h160v-160H180v160Zm440 0h160v-160H620v160Z\"/>\n",
              "  </svg>\n",
              "    </button>\n",
              "\n",
              "  <style>\n",
              "    .colab-df-container {\n",
              "      display:flex;\n",
              "      gap: 12px;\n",
              "    }\n",
              "\n",
              "    .colab-df-convert {\n",
              "      background-color: #E8F0FE;\n",
              "      border: none;\n",
              "      border-radius: 50%;\n",
              "      cursor: pointer;\n",
              "      display: none;\n",
              "      fill: #1967D2;\n",
              "      height: 32px;\n",
              "      padding: 0 0 0 0;\n",
              "      width: 32px;\n",
              "    }\n",
              "\n",
              "    .colab-df-convert:hover {\n",
              "      background-color: #E2EBFA;\n",
              "      box-shadow: 0px 1px 2px rgba(60, 64, 67, 0.3), 0px 1px 3px 1px rgba(60, 64, 67, 0.15);\n",
              "      fill: #174EA6;\n",
              "    }\n",
              "\n",
              "    .colab-df-buttons div {\n",
              "      margin-bottom: 4px;\n",
              "    }\n",
              "\n",
              "    [theme=dark] .colab-df-convert {\n",
              "      background-color: #3B4455;\n",
              "      fill: #D2E3FC;\n",
              "    }\n",
              "\n",
              "    [theme=dark] .colab-df-convert:hover {\n",
              "      background-color: #434B5C;\n",
              "      box-shadow: 0px 1px 3px 1px rgba(0, 0, 0, 0.15);\n",
              "      filter: drop-shadow(0px 1px 2px rgba(0, 0, 0, 0.3));\n",
              "      fill: #FFFFFF;\n",
              "    }\n",
              "  </style>\n",
              "\n",
              "    <script>\n",
              "      const buttonEl =\n",
              "        document.querySelector('#df-d5e9698b-1a86-4c73-86f5-a92f1a53dd77 button.colab-df-convert');\n",
              "      buttonEl.style.display =\n",
              "        google.colab.kernel.accessAllowed ? 'block' : 'none';\n",
              "\n",
              "      async function convertToInteractive(key) {\n",
              "        const element = document.querySelector('#df-d5e9698b-1a86-4c73-86f5-a92f1a53dd77');\n",
              "        const dataTable =\n",
              "          await google.colab.kernel.invokeFunction('convertToInteractive',\n",
              "                                                    [key], {});\n",
              "        if (!dataTable) return;\n",
              "\n",
              "        const docLinkHtml = 'Like what you see? Visit the ' +\n",
              "          '<a target=\"_blank\" href=https://colab.research.google.com/notebooks/data_table.ipynb>data table notebook</a>'\n",
              "          + ' to learn more about interactive tables.';\n",
              "        element.innerHTML = '';\n",
              "        dataTable['output_type'] = 'display_data';\n",
              "        await google.colab.output.renderOutput(dataTable, element);\n",
              "        const docLink = document.createElement('div');\n",
              "        docLink.innerHTML = docLinkHtml;\n",
              "        element.appendChild(docLink);\n",
              "      }\n",
              "    </script>\n",
              "  </div>\n",
              "\n",
              "\n",
              "<div id=\"df-52cdbfec-96c8-4910-ae25-17daa59ddf55\">\n",
              "  <button class=\"colab-df-quickchart\" onclick=\"quickchart('df-52cdbfec-96c8-4910-ae25-17daa59ddf55')\"\n",
              "            title=\"Suggest charts\"\n",
              "            style=\"display:none;\">\n",
              "\n",
              "<svg xmlns=\"http://www.w3.org/2000/svg\" height=\"24px\"viewBox=\"0 0 24 24\"\n",
              "     width=\"24px\">\n",
              "    <g>\n",
              "        <path d=\"M19 3H5c-1.1 0-2 .9-2 2v14c0 1.1.9 2 2 2h14c1.1 0 2-.9 2-2V5c0-1.1-.9-2-2-2zM9 17H7v-7h2v7zm4 0h-2V7h2v10zm4 0h-2v-4h2v4z\"/>\n",
              "    </g>\n",
              "</svg>\n",
              "  </button>\n",
              "\n",
              "<style>\n",
              "  .colab-df-quickchart {\n",
              "      --bg-color: #E8F0FE;\n",
              "      --fill-color: #1967D2;\n",
              "      --hover-bg-color: #E2EBFA;\n",
              "      --hover-fill-color: #174EA6;\n",
              "      --disabled-fill-color: #AAA;\n",
              "      --disabled-bg-color: #DDD;\n",
              "  }\n",
              "\n",
              "  [theme=dark] .colab-df-quickchart {\n",
              "      --bg-color: #3B4455;\n",
              "      --fill-color: #D2E3FC;\n",
              "      --hover-bg-color: #434B5C;\n",
              "      --hover-fill-color: #FFFFFF;\n",
              "      --disabled-bg-color: #3B4455;\n",
              "      --disabled-fill-color: #666;\n",
              "  }\n",
              "\n",
              "  .colab-df-quickchart {\n",
              "    background-color: var(--bg-color);\n",
              "    border: none;\n",
              "    border-radius: 50%;\n",
              "    cursor: pointer;\n",
              "    display: none;\n",
              "    fill: var(--fill-color);\n",
              "    height: 32px;\n",
              "    padding: 0;\n",
              "    width: 32px;\n",
              "  }\n",
              "\n",
              "  .colab-df-quickchart:hover {\n",
              "    background-color: var(--hover-bg-color);\n",
              "    box-shadow: 0 1px 2px rgba(60, 64, 67, 0.3), 0 1px 3px 1px rgba(60, 64, 67, 0.15);\n",
              "    fill: var(--button-hover-fill-color);\n",
              "  }\n",
              "\n",
              "  .colab-df-quickchart-complete:disabled,\n",
              "  .colab-df-quickchart-complete:disabled:hover {\n",
              "    background-color: var(--disabled-bg-color);\n",
              "    fill: var(--disabled-fill-color);\n",
              "    box-shadow: none;\n",
              "  }\n",
              "\n",
              "  .colab-df-spinner {\n",
              "    border: 2px solid var(--fill-color);\n",
              "    border-color: transparent;\n",
              "    border-bottom-color: var(--fill-color);\n",
              "    animation:\n",
              "      spin 1s steps(1) infinite;\n",
              "  }\n",
              "\n",
              "  @keyframes spin {\n",
              "    0% {\n",
              "      border-color: transparent;\n",
              "      border-bottom-color: var(--fill-color);\n",
              "      border-left-color: var(--fill-color);\n",
              "    }\n",
              "    20% {\n",
              "      border-color: transparent;\n",
              "      border-left-color: var(--fill-color);\n",
              "      border-top-color: var(--fill-color);\n",
              "    }\n",
              "    30% {\n",
              "      border-color: transparent;\n",
              "      border-left-color: var(--fill-color);\n",
              "      border-top-color: var(--fill-color);\n",
              "      border-right-color: var(--fill-color);\n",
              "    }\n",
              "    40% {\n",
              "      border-color: transparent;\n",
              "      border-right-color: var(--fill-color);\n",
              "      border-top-color: var(--fill-color);\n",
              "    }\n",
              "    60% {\n",
              "      border-color: transparent;\n",
              "      border-right-color: var(--fill-color);\n",
              "    }\n",
              "    80% {\n",
              "      border-color: transparent;\n",
              "      border-right-color: var(--fill-color);\n",
              "      border-bottom-color: var(--fill-color);\n",
              "    }\n",
              "    90% {\n",
              "      border-color: transparent;\n",
              "      border-bottom-color: var(--fill-color);\n",
              "    }\n",
              "  }\n",
              "</style>\n",
              "\n",
              "  <script>\n",
              "    async function quickchart(key) {\n",
              "      const quickchartButtonEl =\n",
              "        document.querySelector('#' + key + ' button');\n",
              "      quickchartButtonEl.disabled = true;  // To prevent multiple clicks.\n",
              "      quickchartButtonEl.classList.add('colab-df-spinner');\n",
              "      try {\n",
              "        const charts = await google.colab.kernel.invokeFunction(\n",
              "            'suggestCharts', [key], {});\n",
              "      } catch (error) {\n",
              "        console.error('Error during call to suggestCharts:', error);\n",
              "      }\n",
              "      quickchartButtonEl.classList.remove('colab-df-spinner');\n",
              "      quickchartButtonEl.classList.add('colab-df-quickchart-complete');\n",
              "    }\n",
              "    (() => {\n",
              "      let quickchartButtonEl =\n",
              "        document.querySelector('#df-52cdbfec-96c8-4910-ae25-17daa59ddf55 button');\n",
              "      quickchartButtonEl.style.display =\n",
              "        google.colab.kernel.accessAllowed ? 'block' : 'none';\n",
              "    })();\n",
              "  </script>\n",
              "</div>\n",
              "\n",
              "    </div>\n",
              "  </div>\n"
            ],
            "application/vnd.google.colaboratory.intrinsic+json": {
              "type": "dataframe",
              "variable_name": "df",
              "summary": "{\n  \"name\": \"df\",\n  \"rows\": 232,\n  \"fields\": [\n    {\n      \"column\": \"rank\",\n      \"properties\": {\n        \"dtype\": \"number\",\n        \"std\": 67,\n        \"min\": 1,\n        \"max\": 232,\n        \"num_unique_values\": 232,\n        \"samples\": [\n          220,\n          67,\n          10\n        ],\n        \"semantic_type\": \"\",\n        \"description\": \"\"\n      }\n    },\n    {\n      \"column\": \"country\",\n      \"properties\": {\n        \"dtype\": \"string\",\n        \"num_unique_values\": 232,\n        \"samples\": [\n          \"Botswana\",\n          \"North Korea\",\n          \"Bermuda\"\n        ],\n        \"semantic_type\": \"\",\n        \"description\": \"\"\n      }\n    },\n    {\n      \"column\": \"density\",\n      \"properties\": {\n        \"dtype\": \"number\",\n        \"std\": 2078.5913512840134,\n        \"min\": 0.0263,\n        \"max\": 21946.4667,\n        \"num_unique_values\": 232,\n        \"samples\": [\n          4.119,\n          214.7625,\n          1149.8148\n        ],\n        \"semantic_type\": \"\",\n        \"description\": \"\"\n      }\n    },\n    {\n      \"column\": \"densityMi\",\n      \"properties\": {\n        \"dtype\": \"number\",\n        \"std\": 5383.551600417248,\n        \"min\": 0.068,\n        \"max\": 56841.3487,\n        \"num_unique_values\": 232,\n        \"samples\": [\n          10.6681,\n          556.2348,\n          2978.0204\n        ],\n        \"semantic_type\": \"\",\n        \"description\": \"\"\n      }\n    },\n    {\n      \"column\": \"pop2021\",\n      \"properties\": {\n        \"dtype\": \"number\",\n        \"std\": 136888.08261799486,\n        \"min\": 0.8,\n        \"max\": 1444216.107,\n        \"num_unique_values\": 232,\n        \"samples\": [\n          2397.241,\n          25887.041,\n          62.09\n        ],\n        \"semantic_type\": \"\",\n        \"description\": \"\"\n      }\n    },\n    {\n      \"column\": \"area\",\n      \"properties\": {\n        \"dtype\": \"number\",\n        \"std\": 1768617,\n        \"min\": 1,\n        \"max\": 17098242,\n        \"num_unique_values\": 231,\n        \"samples\": [\n          582000,\n          41284,\n          54\n        ],\n        \"semantic_type\": \"\",\n        \"description\": \"\"\n      }\n    }\n  ]\n}"
            }
          },
          "metadata": {},
          "execution_count": 24
        }
      ],
      "source": [
        "df = pd.read_csv(\"https://github.com/anvarnarz/praktikum_datasets/raw/main/world_population.csv\", index_col='rank')\n",
        "df.head()"
      ]
    },
    {
      "cell_type": "markdown",
      "id": "6741cffb-930e-4a93-ab23-96aa0e29d9c9",
      "metadata": {
        "id": "6741cffb-930e-4a93-ab23-96aa0e29d9c9"
      },
      "source": [
        "Yangi SQL jadval yaratamiz"
      ]
    },
    {
      "cell_type": "code",
      "execution_count": null,
      "id": "58003740-cc93-4bf6-bb42-7118194e397c",
      "metadata": {
        "id": "58003740-cc93-4bf6-bb42-7118194e397c"
      },
      "outputs": [],
      "source": [
        "query = \"\"\"\n",
        "CREATE TABLE IF NOT EXISTS worldpop(\n",
        "rank INT,\n",
        "country TEXT PRIMARY KEY,\n",
        "density DOUBLE,\n",
        "population DOUBLE NOT NULL,\n",
        "area INT NOT NULL\n",
        ");\n",
        "\"\"\"\n",
        "cursor.execute(query)\n",
        "db.commit()"
      ]
    },
    {
      "cell_type": "markdown",
      "id": "597cd1bf-004a-4d61-a43e-f00ccf038d50",
      "metadata": {
        "id": "597cd1bf-004a-4d61-a43e-f00ccf038d50"
      },
      "source": [
        "Keling jadvladan O'zbekiston uchun qiymatlarni ajratib olamiz"
      ]
    },
    {
      "cell_type": "code",
      "execution_count": null,
      "id": "147463cc-05f4-4f10-8741-9e2f2a430035",
      "metadata": {
        "colab": {
          "base_uri": "https://localhost:8080/"
        },
        "id": "147463cc-05f4-4f10-8741-9e2f2a430035",
        "outputId": "aee2120a-0268-473f-eb11-c68815c97371"
      },
      "outputs": [
        {
          "output_type": "stream",
          "name": "stdout",
          "text": [
            "         country  density  densityMi    pop2021    area\n",
            "rank                                                   \n",
            "133   Uzbekistan  75.8511   196.4542  33935.763  447400\n"
          ]
        }
      ],
      "source": [
        "uz=df[df.country==\"Uzbekistan\"]\n",
        "print(uz)"
      ]
    },
    {
      "cell_type": "code",
      "execution_count": null,
      "id": "a22eb13b-d5b4-490f-8b22-aca740fcd156",
      "metadata": {
        "colab": {
          "base_uri": "https://localhost:8080/"
        },
        "id": "a22eb13b-d5b4-490f-8b22-aca740fcd156",
        "outputId": "e5ec7fd7-9764-4759-aa53-5c625412bf57"
      },
      "outputs": [
        {
          "output_type": "stream",
          "name": "stdout",
          "text": [
            "rank=133, country='Uzbekistan', density=75.8511, population=33935.763, area=447400\n"
          ]
        }
      ],
      "source": [
        "rank = uz.index.values[0]\n",
        "country = uz.at[rank, 'country']\n",
        "density = uz.at[rank, 'density']\n",
        "population = uz.at[rank, 'pop2021']\n",
        "area = uz.at[rank, 'area']\n",
        "print(f\"{rank=}, {country=}, {density=}, {population=}, {area=}\")"
      ]
    },
    {
      "cell_type": "code",
      "execution_count": null,
      "id": "061d12fb-d5ee-4c65-8122-15a60c2a379e",
      "metadata": {
        "id": "061d12fb-d5ee-4c65-8122-15a60c2a379e"
      },
      "outputs": [],
      "source": [
        "query = f\"\"\"\n",
        "INSERT INTO worldpop VALUES ({rank}, '{country}', {density}, {population}, {area})\n",
        "\"\"\"\n",
        "cursor.execute(query)\n",
        "db.commit()"
      ]
    },
    {
      "cell_type": "code",
      "execution_count": null,
      "id": "91c1f0a4-4270-43d5-b34f-11eb4757ea3b",
      "metadata": {
        "colab": {
          "base_uri": "https://localhost:8080/"
        },
        "id": "91c1f0a4-4270-43d5-b34f-11eb4757ea3b",
        "outputId": "93e7eafd-ea09-4720-cb1c-b1248bf9609e"
      },
      "outputs": [
        {
          "output_type": "execute_result",
          "data": {
            "text/plain": [
              "[(133, 'Uzbekistan', 75.8511, 33935.763, 447400)]"
            ]
          },
          "metadata": {},
          "execution_count": 29
        }
      ],
      "source": [
        "query = \"SELECT * FROM worldpop\"\n",
        "cursor.execute(query)\n",
        "cursor.fetchall()"
      ]
    },
    {
      "cell_type": "markdown",
      "id": "5429d836-84c3-427e-9992-ed16ffbe47b0",
      "metadata": {
        "id": "5429d836-84c3-427e-9992-ed16ffbe47b0"
      },
      "source": [
        "## Omborni yopamiz.\n",
        "Ishni tugatib omborni yopishni unutmang."
      ]
    },
    {
      "cell_type": "code",
      "execution_count": null,
      "id": "358b9fbd-77e1-4abd-934d-108d9a247d0f",
      "metadata": {
        "id": "358b9fbd-77e1-4abd-934d-108d9a247d0f"
      },
      "outputs": [],
      "source": [
        "db.close()"
      ]
    }
  ],
  "metadata": {
    "kernelspec": {
      "display_name": "Python 3",
      "language": "python",
      "name": "python3"
    },
    "language_info": {
      "codemirror_mode": {
        "name": "ipython",
        "version": 3
      },
      "file_extension": ".py",
      "mimetype": "text/x-python",
      "name": "python",
      "nbconvert_exporter": "python",
      "pygments_lexer": "ipython3",
      "version": "3.8.8"
    },
    "colab": {
      "provenance": [],
      "include_colab_link": true
    }
  },
  "nbformat": 4,
  "nbformat_minor": 5
}